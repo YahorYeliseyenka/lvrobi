{
 "cells": [
  {
   "cell_type": "markdown",
   "metadata": {},
   "source": [
    "### Based on https://github.com/pwr-inf/hex2vec"
   ]
  },
  {
   "cell_type": "code",
   "execution_count": 1,
   "metadata": {},
   "outputs": [],
   "source": [
    "import pandas as pd\n",
    "\n",
    "from tqdm import tqdm\n",
    "from IPython.display import clear_output\n",
    "\n",
    "from _lib.osm_cities_data import download_whole_city, add_h3_indices_to_city, load_filter, group_city_tags, group_cities, load_processed_dataset\n",
    "from _lib.settings import DATA_RAW_DIR, DATA_OSM_CITIES_DIR\n",
    "from _lib.settings import SELECTED_CITIES, SELECTED_RESOLUTIONS, SELECTED_TAGS"
   ]
  },
  {
   "cell_type": "markdown",
   "metadata": {},
   "source": [
    "# Download OSM Data"
   ]
  },
  {
   "cell_type": "code",
   "execution_count": 3,
   "metadata": {},
   "outputs": [
    {
     "name": "stderr",
     "output_type": "stream",
     "text": [
      "100%|██████████| 40/40 [9:16:05<00:00, 834.14s/it]\n"
     ]
    }
   ],
   "source": [
    "for city in tqdm(SELECTED_CITIES):\n",
    "    download_whole_city(city, DATA_RAW_DIR)\n",
    "    clear_output(wait=True)"
   ]
  },
  {
   "cell_type": "markdown",
   "metadata": {},
   "source": [
    "### Process dataset, select tags, add h3 indices of selected resolution"
   ]
  },
  {
   "cell_type": "code",
   "execution_count": 2,
   "metadata": {},
   "outputs": [
    {
     "name": "stderr",
     "output_type": "stream",
     "text": [
      "100%|██████████| 40/40 [11:54:02<00:00, 1071.06s/it]\n"
     ]
    }
   ],
   "source": [
    "for city in tqdm(SELECTED_CITIES):\n",
    "    for resolution in SELECTED_RESOLUTIONS:\n",
    "        print('City:', city,'Resolution:', resolution)\n",
    "        add_h3_indices_to_city(city, resolution)\n",
    "        clear_output(wait=True)"
   ]
  },
  {
   "cell_type": "markdown",
   "metadata": {},
   "source": [
    "### Group selected tags in cities"
   ]
  },
  {
   "cell_type": "code",
   "execution_count": 2,
   "metadata": {},
   "outputs": [],
   "source": [
    "cities = [i if type(i) != list else i[0] for i in SELECTED_CITIES]\n",
    "TAG_FILTER = load_filter(\"from_wiki.json\")"
   ]
  },
  {
   "cell_type": "code",
   "execution_count": 3,
   "metadata": {},
   "outputs": [
    {
     "name": "stderr",
     "output_type": "stream",
     "text": [
      "100%|██████████| 40/40 [17:17<00:00, 25.93s/it]\n"
     ]
    }
   ],
   "source": [
    "for city in tqdm(cities):\n",
    "    for resolution in SELECTED_RESOLUTIONS:\n",
    "        print('City:', city,'Resolution:', resolution)\n",
    "        group_city_tags(city, resolution, filter_values=TAG_FILTER, fill_missing=True)\n",
    "    clear_output(wait=True)"
   ]
  },
  {
   "cell_type": "markdown",
   "metadata": {},
   "source": [
    "### Group all cities"
   ]
  },
  {
   "cell_type": "code",
   "execution_count": 4,
   "metadata": {},
   "outputs": [
    {
     "name": "stderr",
     "output_type": "stream",
     "text": [
      "100%|██████████| 3/3 [05:11<00:00, 103.86s/it]\n"
     ]
    }
   ],
   "source": [
    "for resolution in tqdm(SELECTED_RESOLUTIONS):\n",
    "    group_cities(cities, resolution)\n",
    "    clear_output(wait=True)"
   ]
  },
  {
   "cell_type": "markdown",
   "metadata": {},
   "source": [
    "# Create Final Dataset 4 Word2Vec Training"
   ]
  },
  {
   "cell_type": "code",
   "execution_count": 2,
   "metadata": {},
   "outputs": [],
   "source": [
    "problem_columns = [\n",
    "    'amenity_waste_basket',\n",
    "    'landuse_grass',\n",
    "    'historic_tomb',\n",
    "    'natural_tree',\n",
    "    'natural_tree_row',\n",
    "    'natural_valley', # northern Warsaw\n",
    "]"
   ]
  },
  {
   "cell_type": "code",
   "execution_count": 3,
   "metadata": {},
   "outputs": [
    {
     "name": "stderr",
     "output_type": "stream",
     "text": [
      "100%|██████████| 3/3 [10:26<00:00, 208.76s/it]\n"
     ]
    }
   ],
   "source": [
    "for resolution in tqdm(SELECTED_RESOLUTIONS):\n",
    "    df = load_processed_dataset(resolution, select_tags=SELECTED_TAGS)\n",
    "\n",
    "    df = df.drop(columns=problem_columns)\n",
    "    zero_cities_columns = df.columns.drop('city')[(df.groupby('city').sum() > 0).sum() == 0]\n",
    "    df = df.drop(columns=zero_cities_columns)\n",
    "    df = df[~(df.drop(columns='city') == 0).all(axis=1)]\n",
    "\n",
    "    df.groupby('city').size().sort_values(ascending=False)\n",
    "\n",
    "    df_cols = pd.read_csv(f\"{DATA_OSM_CITIES_DIR}/w2v_columns.csv\")\n",
    "    df_cols = df_cols.drop(df_cols[df_cols['column'] == 'city'].index)\n",
    "\n",
    "    split = df_cols.column.str.split(\"_\", 1)\n",
    "    df_cols['key'] = split.str[0]\n",
    "    df_cols['value'] = split.str[1]\n",
    "\n",
    "    used_vals = dict(df_cols[['key', 'value']].groupby('key')['value'].apply(set))\n",
    "\n",
    "    from_wiki = load_filter(\"from_wiki.json\")\n",
    "\n",
    "    row = \"\\\\TopicLine \\\\Topic[\\\\texttt{%s}] & \\\\texttt{%s} & %s \\\\\\\\\\n\"\n",
    "\n",
    "    rows = []\n",
    "    for key in sorted(from_wiki.keys()):\n",
    "        vals = sorted(from_wiki[key])\n",
    "        key_str = key.replace(\"_\", \"\\\\_\")\n",
    "        for val in vals:\n",
    "            val_str = val.replace(\"_\", \"\\\\_\")\n",
    "            if key in SELECTED_TAGS and val in used_vals[key]:\n",
    "                rows.append(row%(key_str, val_str, \"\\\\checkmark\"))\n",
    "            else:\n",
    "                rows.append(row%(key_str, val_str, \"\"))\n",
    "    with open(f\"{DATA_OSM_CITIES_DIR}/tags.txt\", 'wt') as f:\n",
    "        f.writelines(rows)\n",
    "\n",
    "    df.to_csv(f'{DATA_OSM_CITIES_DIR}/{resolution}.csv', sep=';')"
   ]
  },
  {
   "cell_type": "code",
   "execution_count": null,
   "metadata": {},
   "outputs": [],
   "source": []
  }
 ],
 "metadata": {
  "interpreter": {
   "hash": "3bf1d6a3a2ce20794dfe5dd94238bf73575b92dbd1ed6b7165e90d0a813ac81c"
  },
  "kernelspec": {
   "display_name": "Python 3.9.7 ('base')",
   "language": "python",
   "name": "python3"
  },
  "language_info": {
   "codemirror_mode": {
    "name": "ipython",
    "version": 3
   },
   "file_extension": ".py",
   "mimetype": "text/x-python",
   "name": "python",
   "nbconvert_exporter": "python",
   "pygments_lexer": "ipython3",
   "version": "3.9.7"
  },
  "orig_nbformat": 4
 },
 "nbformat": 4,
 "nbformat_minor": 2
}
