{
 "cells": [
  {
   "cell_type": "code",
   "execution_count": 1,
   "metadata": {},
   "outputs": [],
   "source": [
    "import os\n",
    "import pandas as pd\n",
    "import gensim\n",
    "\n",
    "from _lib.settings import DATA_W2V_VECTORS_DIR, DATA_W2V_KEYED_VECTORS_DIR, DATA_TRIPS_AS_HEXES_DIR, DATA_FLAIR_TRIPS_DIR, DATA_FLAIR_CORPUS_DIR\n",
    "from _lib.settings import SELECTED_RESOLUTIONS\n",
    "from _lib.helper import get_file_paths\n",
    "from _lib.w2v import csv2kv"
   ]
  },
  {
   "cell_type": "markdown",
   "metadata": {},
   "source": [
    "# Converting trained h3 vectors into KeyedVector (Flair) format"
   ]
  },
  {
   "cell_type": "code",
   "execution_count": 2,
   "metadata": {},
   "outputs": [
    {
     "name": "stdout",
     "output_type": "stream",
     "text": [
      "Working on: /media/yyeliseyenka/Zalman Data/lvrobi-gityy/data/word2vec/vectors/10.csv\n",
      "Working on: /media/yyeliseyenka/Zalman Data/lvrobi-gityy/data/word2vec/vectors/10_g.csv\n",
      "Working on: /media/yyeliseyenka/Zalman Data/lvrobi-gityy/data/word2vec/vectors/8.csv\n",
      "Working on: /media/yyeliseyenka/Zalman Data/lvrobi-gityy/data/word2vec/vectors/8_g.csv\n",
      "Working on: /media/yyeliseyenka/Zalman Data/lvrobi-gityy/data/word2vec/vectors/9.csv\n",
      "Working on: /media/yyeliseyenka/Zalman Data/lvrobi-gityy/data/word2vec/vectors/9_g.csv\n"
     ]
    }
   ],
   "source": [
    "for path2vectors_file in get_file_paths(DATA_W2V_VECTORS_DIR):\n",
    "    print(\"Working on:\", path2vectors_file)\n",
    "    csv2kv(path2vectors_file, DATA_W2V_KEYED_VECTORS_DIR)"
   ]
  },
  {
   "cell_type": "markdown",
   "metadata": {},
   "source": [
    "# Removing trips without embedded hexes"
   ]
  },
  {
   "cell_type": "code",
   "execution_count": 2,
   "metadata": {},
   "outputs": [
    {
     "name": "stdout",
     "output_type": "stream",
     "text": [
      "Working on 8 resolution\n",
      "Working on 9 resolution\n",
      "Working on 10 resolution\n"
     ]
    }
   ],
   "source": [
    "for resolution in SELECTED_RESOLUTIONS:\n",
    "    print(f\"Working on {resolution} resolution\")\n",
    "    df_trips = pd.read_csv(f'{DATA_TRIPS_AS_HEXES_DIR}/{resolution}.csv', sep=';', usecols=[0, 1])\n",
    "    df_trips_count = pd.DataFrame({'count' : df_trips.groupby('tripid').size()}).reset_index()\n",
    "\n",
    "    df_hexes = pd.read_csv(f'{DATA_W2V_VECTORS_DIR}/{resolution}.csv', sep=' ', header=None, usecols=[0])\n",
    "    df_hexes.rename({0:'hexid'}, axis=1, inplace=True)\n",
    "\n",
    "    df_merged = pd.merge(df_trips, df_hexes, on='hexid')\n",
    "    df_merged_count = pd.DataFrame({'count' : df_merged.groupby('tripid').size()}).reset_index()\n",
    "    \n",
    "    df_trips_features = pd.merge(df_merged_count, df_trips_count, on=['tripid', 'count'])\n",
    "    df_trips_features.drop(columns=['count'], inplace=True)\n",
    "\n",
    "    df_merged = pd.merge(df_trips, df_trips_features, on='tripid')\n",
    "\n",
    "    df_merged['hexes'] = df_merged.groupby('tripid')['hexid'].transform(lambda x: ' '.join(x))\n",
    "    df_merged = df_merged[['tripid', 'hexes']]\n",
    "    df_merged = df_merged.drop_duplicates()\n",
    "\n",
    "    df_merged.to_csv(f'{DATA_FLAIR_TRIPS_DIR}/{resolution}.csv', sep=';', index=False)"
   ]
  },
  {
   "cell_type": "markdown",
   "metadata": {},
   "source": [
    "# Creating corpus"
   ]
  },
  {
   "cell_type": "markdown",
   "metadata": {},
   "source": [
    "## Joining generic data"
   ]
  },
  {
   "cell_type": "code",
   "execution_count": 8,
   "metadata": {},
   "outputs": [
    {
     "name": "stderr",
     "output_type": "stream",
     "text": [
      "/home/yyeliseyenka/anaconda3/lib/python3.9/site-packages/IPython/core/interactiveshell.py:3444: DtypeWarning: Columns (16,17) have mixed types.Specify dtype option on import or set low_memory=False.\n",
      "  exec(code_obj, self.user_global_ns, self.user_ns)\n",
      "/home/yyeliseyenka/anaconda3/lib/python3.9/site-packages/IPython/core/interactiveshell.py:3444: DtypeWarning: Columns (12,16,17) have mixed types.Specify dtype option on import or set low_memory=False.\n",
      "  exec(code_obj, self.user_global_ns, self.user_ns)\n"
     ]
    }
   ],
   "source": [
    "from _lib.settings import DATA_AFTER_PREPARATION_DIR\n",
    "\n",
    "df_generic = pd.DataFrame()\n",
    "\n",
    "for path in get_file_paths(DATA_AFTER_PREPARATION_DIR, includes=['generic']):\n",
    "    df_generic = df_generic.append(pd.read_csv(path, sep=';'), ignore_index=True)\n",
    "\n",
    "df_generic.to_csv(f\"{DATA_FLAIR_TRIPS_DIR}/generic.csv\", sep=';', index=False)"
   ]
  },
  {
   "cell_type": "code",
   "execution_count": 10,
   "metadata": {},
   "outputs": [
    {
     "data": {
      "text/plain": [
       "261145"
      ]
     },
     "execution_count": 10,
     "metadata": {},
     "output_type": "execute_result"
    }
   ],
   "source": [
    "df_generic.shape[0]"
   ]
  },
  {
   "cell_type": "code",
   "execution_count": 58,
   "metadata": {},
   "outputs": [
    {
     "data": {
      "text/plain": [
       "63696"
      ]
     },
     "execution_count": 58,
     "metadata": {},
     "output_type": "execute_result"
    }
   ],
   "source": [
    "df_generic[df_generic['typeoftrip'].notna()].shape[0]"
   ]
  },
  {
   "cell_type": "code",
   "execution_count": 56,
   "metadata": {},
   "outputs": [
    {
     "data": {
      "text/plain": [
       "typeoftrip\n",
       "home-to-school       85\n",
       "home-to-work        617\n",
       "hometoschool       3001\n",
       "hometowork        29515\n",
       "leisure           21386\n",
       "other              9092\n",
       "dtype: int64"
      ]
     },
     "execution_count": 56,
     "metadata": {},
     "output_type": "execute_result"
    }
   ],
   "source": [
    "df_generic.groupby('typeoftrip').size()"
   ]
  },
  {
   "cell_type": "code",
   "execution_count": 54,
   "metadata": {},
   "outputs": [
    {
     "data": {
      "text/plain": [
       "194313"
      ]
     },
     "execution_count": 54,
     "metadata": {},
     "output_type": "execute_result"
    }
   ],
   "source": [
    "df_generic[df_generic['yearofbirth'].notna()].shape[0]"
   ]
  },
  {
   "cell_type": "code",
   "execution_count": 55,
   "metadata": {},
   "outputs": [
    {
     "data": {
      "text/plain": [
       "173390"
      ]
     },
     "execution_count": 55,
     "metadata": {},
     "output_type": "execute_result"
    }
   ],
   "source": [
    "df_generic[df_generic['profession'].notna()].shape[0]"
   ]
  },
  {
   "cell_type": "markdown",
   "metadata": {},
   "source": [
    "## Corpus"
   ]
  },
  {
   "cell_type": "code",
   "execution_count": 13,
   "metadata": {},
   "outputs": [],
   "source": [
    "from sklearn.model_selection import train_test_split\n",
    "\n",
    "from os import path"
   ]
  },
  {
   "cell_type": "code",
   "execution_count": 23,
   "metadata": {},
   "outputs": [],
   "source": [
    "def read_generic_dataframe(path=f\"{DATA_FLAIR_TRIPS_DIR}/generic.csv\", maxspeed=60, minspeed=2, maxtime=300, mintime=1):\n",
    "    df_generic = pd.read_csv(path, sep=';')\n",
    "\n",
    "    df_generic = df_generic[(df_generic['speedavg_real'] <= maxspeed) & (df_generic['speedavg_real'] >= minspeed)] \n",
    "\n",
    "    df_generic['ttime'] = round((df_generic['endts'] - df_generic['startts'])/60, 1)\n",
    "    df_generic = df_generic[(df_generic['ttime'] <= maxtime) & (df_generic['ttime'] >= mintime)]\n",
    "    \n",
    "    df_generic['typeoftrip'] = df_generic[~df_generic['typeoftrip'].isna()]['typeoftrip'].apply(lambda x: ''.join(filter(str.isalpha, x)))\n",
    "    df_generic['city'] = df_generic['tripid'].str[:3]\n",
    "\n",
    "    return df_generic\n",
    "\n",
    "\n",
    "def read_trips_dataframe(path, min_len=1):\n",
    "    df_trips = pd.read_csv(path, sep=';')\n",
    "    df_trips = df_trips[df_trips['hexes'].str.split().str.len() > min_len]\n",
    "\n",
    "    return df_trips\n",
    "\n",
    "\n",
    "def split_into_corpus(df_x, df_Y, df_stratify, slice=0, random_state=8):\n",
    "    if slice > 0:\n",
    "        df_x, x_test, df_Y, Y_test = train_test_split(df_x, df_Y, train_size=slice, random_state=random_state, stratify=df_stratify)\n",
    "    \n",
    "    x_test, x_train, Y_test, Y_train = train_test_split(df_x, df_Y, train_size=0.2, random_state=random_state, stratify=df_stratify.iloc[df_Y.index])\n",
    "\n",
    "    x_dev, x_train, Y_dev, Y_train = train_test_split(x_train, Y_train, train_size=0.25, random_state=random_state, stratify=df_stratify.iloc[Y_train.index])\n",
    "\n",
    "    return x_train.join(Y_train), x_test.join(Y_test), x_dev.join(Y_dev)\n",
    "\n",
    "\n",
    "def create_corpus(resolutions, column_name, slice):\n",
    "    for resolution in resolutions:\n",
    "        df_generic = read_generic_dataframe()\n",
    "        df_generic = df_generic[~df_generic[column_name].isna()][['tripid', column_name]]\n",
    "\n",
    "        df_trips = read_trips_dataframe(f\"{DATA_FLAIR_TRIPS_DIR}/{resolution}.csv\")\n",
    "        \n",
    "        df = pd.merge(df_trips, df_generic, on=['tripid'])\n",
    "        df['city'] = df['tripid'].str[:3]\n",
    "        df = df.loc[:, df.columns != 'tripid']\n",
    "        print('DataFrame size:', df.shape[0])\n",
    "\n",
    "        df_x, df_Y, df_stratify = df[['hexes']], df[[column_name]], df[[column_name, 'city']]\n",
    "        \n",
    "        train, test, dev = split_into_corpus(df_x, df_Y, df_stratify, slice)\n",
    "\n",
    "        path2corpus = f\"{DATA_FLAIR_CORPUS_DIR}/{resolution}_{column_name}{'_'+str(int(slice*100)) if slice > 0 else ''}\"\n",
    "\n",
    "        if not path.exists(path2corpus):\n",
    "            os.mkdir(path2corpus)\n",
    "        \n",
    "        train.to_csv(f'{path2corpus}/train.csv', sep=';', index=False)\n",
    "        test.to_csv(f'{path2corpus}/test.csv', sep=';', index=False)\n",
    "        dev.to_csv(f'{path2corpus}/dev.csv', sep=';', index=False)"
   ]
  },
  {
   "cell_type": "markdown",
   "metadata": {},
   "source": [
    "### typeoftrip"
   ]
  },
  {
   "cell_type": "code",
   "execution_count": 25,
   "metadata": {},
   "outputs": [
    {
     "name": "stderr",
     "output_type": "stream",
     "text": [
      "/tmp/ipykernel_37501/3441105788.py:35: DtypeWarning: Columns (12,15,16,17,18) have mixed types.Specify dtype option on import or set low_memory=False.\n",
      "  df_generic = read_generic_dataframe()\n"
     ]
    },
    {
     "name": "stdout",
     "output_type": "stream",
     "text": [
      "DataFrame size: 46909\n"
     ]
    },
    {
     "name": "stderr",
     "output_type": "stream",
     "text": [
      "/tmp/ipykernel_37501/3441105788.py:35: DtypeWarning: Columns (12,15,16,17,18) have mixed types.Specify dtype option on import or set low_memory=False.\n",
      "  df_generic = read_generic_dataframe()\n"
     ]
    },
    {
     "name": "stdout",
     "output_type": "stream",
     "text": [
      "DataFrame size: 49003\n"
     ]
    },
    {
     "name": "stderr",
     "output_type": "stream",
     "text": [
      "/tmp/ipykernel_37501/3441105788.py:35: DtypeWarning: Columns (12,15,16,17,18) have mixed types.Specify dtype option on import or set low_memory=False.\n",
      "  df_generic = read_generic_dataframe()\n"
     ]
    },
    {
     "name": "stdout",
     "output_type": "stream",
     "text": [
      "DataFrame size: 45242\n"
     ]
    }
   ],
   "source": [
    "create_corpus(SELECTED_RESOLUTIONS, 'typeoftrip', 0)"
   ]
  },
  {
   "cell_type": "markdown",
   "metadata": {},
   "source": [
    "### typeoftrip. SLICE = 0.2"
   ]
  },
  {
   "cell_type": "code",
   "execution_count": 24,
   "metadata": {},
   "outputs": [
    {
     "name": "stderr",
     "output_type": "stream",
     "text": [
      "/tmp/ipykernel_37501/3441105788.py:35: DtypeWarning: Columns (12,15,16,17,18) have mixed types.Specify dtype option on import or set low_memory=False.\n",
      "  df_generic = read_generic_dataframe()\n"
     ]
    },
    {
     "name": "stdout",
     "output_type": "stream",
     "text": [
      "DataFrame size: 46909\n"
     ]
    },
    {
     "name": "stderr",
     "output_type": "stream",
     "text": [
      "/tmp/ipykernel_37501/3441105788.py:35: DtypeWarning: Columns (12,15,16,17,18) have mixed types.Specify dtype option on import or set low_memory=False.\n",
      "  df_generic = read_generic_dataframe()\n"
     ]
    },
    {
     "name": "stdout",
     "output_type": "stream",
     "text": [
      "DataFrame size: 49003\n"
     ]
    },
    {
     "name": "stderr",
     "output_type": "stream",
     "text": [
      "/tmp/ipykernel_37501/3441105788.py:35: DtypeWarning: Columns (12,15,16,17,18) have mixed types.Specify dtype option on import or set low_memory=False.\n",
      "  df_generic = read_generic_dataframe()\n"
     ]
    },
    {
     "name": "stdout",
     "output_type": "stream",
     "text": [
      "DataFrame size: 45242\n"
     ]
    }
   ],
   "source": [
    "create_corpus(SELECTED_RESOLUTIONS, 'typeoftrip', 0.2)"
   ]
  },
  {
   "cell_type": "code",
   "execution_count": null,
   "metadata": {},
   "outputs": [],
   "source": []
  }
 ],
 "metadata": {
  "interpreter": {
   "hash": "3bf1d6a3a2ce20794dfe5dd94238bf73575b92dbd1ed6b7165e90d0a813ac81c"
  },
  "kernelspec": {
   "display_name": "Python 3.9.7 ('base')",
   "language": "python",
   "name": "python3"
  },
  "language_info": {
   "codemirror_mode": {
    "name": "ipython",
    "version": 3
   },
   "file_extension": ".py",
   "mimetype": "text/x-python",
   "name": "python",
   "nbconvert_exporter": "python",
   "pygments_lexer": "ipython3",
   "version": "3.9.7"
  },
  "orig_nbformat": 4
 },
 "nbformat": 4,
 "nbformat_minor": 2
}
