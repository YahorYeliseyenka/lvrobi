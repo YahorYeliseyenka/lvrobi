{
 "cells": [
  {
   "cell_type": "markdown",
   "metadata": {},
   "source": [
    "# Tests"
   ]
  },
  {
   "cell_type": "code",
   "execution_count": null,
   "metadata": {},
   "outputs": [],
   "source": [
    "import torch\n",
    "\n",
    "from _lib.w2v import run_w2v_tests\n",
    "\n",
    "\n",
    "print(torch.cuda.is_available())\n",
    "print(torch.cuda.get_device_name(0))"
   ]
  },
  {
   "cell_type": "markdown",
   "metadata": {},
   "source": [
    "### All hexes"
   ]
  },
  {
   "cell_type": "code",
   "execution_count": 5,
   "metadata": {},
   "outputs": [
    {
     "name": "stderr",
     "output_type": "stream",
     "text": [
      "\u001b[32m[I 2022-05-12 10:08:23,147]\u001b[0m Trial 55 finished with value: 0.4185958206653595 and parameters: {'optimizer': 'Adam', 'lr': 0.0003902911286761185, 'batch_size': 144, 'first_layer_size': 200, 'second_layer_size': 100}. Best is trial 28 with value: 0.41610187292099.\u001b[0m\n",
      "GPU available: True, used: True\n",
      "TPU available: False, using: 0 TPU cores\n",
      "IPU available: False, using: 0 IPUs\n",
      "\u001b[34m\u001b[1mwandb\u001b[0m: wandb version 0.12.16 is available!  To upgrade, please run:\n",
      "\u001b[34m\u001b[1mwandb\u001b[0m:  $ pip install wandb --upgrade\n"
     ]
    }
   ],
   "source": [
    "resolution = 8\n",
    "run_w2v_tests(resolution, f\"optuna_w2v_{resolution}\", GraphTypes.NONE)"
   ]
  },
  {
   "cell_type": "code",
   "execution_count": 3,
   "metadata": {},
   "outputs": [
    {
     "name": "stderr",
     "output_type": "stream",
     "text": [
      "\u001b[32m[I 2022-05-20 15:20:24,981]\u001b[0m Trial 49 finished with value: 0.28854507207870483 and parameters: {'optimizer': 'Adam', 'lr': 0.0014063824765723897, 'batch_size': 512, 'first_layer_size': 175, 'second_layer_size': 100}. Best is trial 32 with value: 0.26827651262283325.\u001b[0m\n"
     ]
    },
    {
     "name": "stdout",
     "output_type": "stream",
     "text": [
      "params: {'optimizer': 'Adam', 'lr': 0.0012138308896900158, 'batch_size': 496, 'first_layer_size': 200, 'second_layer_size': 125}\n",
      "value: 0.26827651262283325\n"
     ]
    }
   ],
   "source": [
    "resolution = 9\n",
    "run_w2v_tests(resolution, f\"optuna_w2v_{resolution}\", GraphTypes.NONE, n_trials=50, ds_split=0.1)"
   ]
  },
  {
   "cell_type": "code",
   "execution_count": 3,
   "metadata": {},
   "outputs": [
    {
     "name": "stderr",
     "output_type": "stream",
     "text": [
      "\u001b[32m[I 2022-05-20 23:04:17,158]\u001b[0m Trial 49 finished with value: 0.3387257754802704 and parameters: {'optimizer': 'Adagrad', 'lr': 0.0012975864540887905, 'batch_size': 320, 'first_layer_size': 200, 'second_layer_size': 100}. Best is trial 35 with value: 0.18402734398841858.\u001b[0m\n"
     ]
    },
    {
     "name": "stdout",
     "output_type": "stream",
     "text": [
      "params: {'optimizer': 'Adagrad', 'lr': 0.029220995866855556, 'batch_size': 80, 'first_layer_size': 175, 'second_layer_size': 125}\n",
      "value: 0.18402734398841858\n"
     ]
    }
   ],
   "source": [
    "resolution = 10\n",
    "run_w2v_tests(resolution, f\"optuna_w2v_{resolution}\", GraphTypes.NONE, n_trials=50, ds_split=0.01)"
   ]
  },
  {
   "cell_type": "markdown",
   "metadata": {},
   "source": [
    "### Hexes from itineraries"
   ]
  },
  {
   "cell_type": "code",
   "execution_count": 6,
   "metadata": {},
   "outputs": [
    {
     "name": "stderr",
     "output_type": "stream",
     "text": [
      "\u001b[32m[I 2022-05-14 16:58:52,101]\u001b[0m Trial 99 finished with value: 0.4329105317592621 and parameters: {'optimizer': 'Adam', 'lr': 0.0003469784318374137, 'batch_size': 32, 'first_layer_size': 100, 'second_layer_size': 125}. Best is trial 95 with value: 0.4317620098590851.\u001b[0m\n"
     ]
    },
    {
     "name": "stdout",
     "output_type": "stream",
     "text": [
      "params: {'optimizer': 'Adam', 'lr': 0.00037038763887552726, 'batch_size': 48, 'first_layer_size': 100, 'second_layer_size': 125}\n",
      "value: 0.4317620098590851\n"
     ]
    }
   ],
   "source": [
    "resolution = 8\n",
    "run_w2v_tests(resolution, f\"optuna_w2v_{resolution}_selected_hexes\", GraphTypes.GRAPH)"
   ]
  },
  {
   "cell_type": "code",
   "execution_count": 7,
   "metadata": {},
   "outputs": [
    {
     "name": "stderr",
     "output_type": "stream",
     "text": [
      "\u001b[32m[I 2022-05-15 06:50:01,028]\u001b[0m Trial 99 finished with value: 0.45207643508911133 and parameters: {'optimizer': 'Adagrad', 'lr': 0.005207445208280617, 'batch_size': 64, 'first_layer_size': 175, 'second_layer_size': 150}. Best is trial 86 with value: 0.4371359646320343.\u001b[0m\n"
     ]
    },
    {
     "name": "stdout",
     "output_type": "stream",
     "text": [
      "params: {'optimizer': 'Adagrad', 'lr': 0.013431327409644152, 'batch_size': 112, 'first_layer_size': 175, 'second_layer_size': 150}\n",
      "value: 0.4371359646320343\n"
     ]
    }
   ],
   "source": [
    "resolution = 9\n",
    "run_w2v_tests(resolution, f\"optuna_w2v_{resolution}_selected_hexes\", GraphTypes.GRAPH)"
   ]
  },
  {
   "cell_type": "code",
   "execution_count": null,
   "metadata": {},
   "outputs": [],
   "source": [
    "resolution = 10\n",
    "run_w2v_tests(resolution, f\"optuna_w2v_{resolution}_selected_hexes\", GraphTypes.GRAPH)"
   ]
  },
  {
   "cell_type": "markdown",
   "metadata": {},
   "source": [
    "# Final training & vectors saving"
   ]
  },
  {
   "cell_type": "code",
   "execution_count": 3,
   "metadata": {},
   "outputs": [],
   "source": [
    "import pandas as pd\n",
    "\n",
    "from _lib.w2v import train_w2v_model, read_osm_data, save_vectors\n",
    "from _lib.w2v import H3NeighborDataset, GraphTypes\n",
    "from IPython.display import clear_output\n",
    "\n",
    "\n",
    "final_vector_size = 50\n",
    "params4final_training = pd.DataFrame.from_dict(\n",
    "        {'8': [8, False, 64, 200, 150, 'Adam', 0.00025, 100],\n",
    "        '8g': [8, True, 32, 100, 125, 'Adam', 0.00037, 100],\n",
    "        '9': [9, False, 512, 200, 125, 'Adam', 0.001, 100],\n",
    "        '9g': [9, True, 124, 175, 150, 'Adagrad', 0.01, 100],\n",
    "        '10': [10, False, 64, 175, 125, 'Adagrad', 0.03, 100],\n",
    "        '10g': [10, True, 512, 200, 150, 'Adam', 0.001, 100]}, \n",
    "    orient='index', \n",
    "    columns=['resolution', 'graph', 'batch_size', 'first_ls', 'second_ls', 'optim', 'lr', 'epochs'])"
   ]
  },
  {
   "cell_type": "code",
   "execution_count": 5,
   "metadata": {},
   "outputs": [
    {
     "name": "stderr",
     "output_type": "stream",
     "text": [
      "100%|██████████| 214143/214143 [00:12<00:00, 16666.49it/s]\n",
      "GPU available: True, used: True\n",
      "TPU available: False, using: 0 TPU cores\n",
      "IPU available: False, using: 0 IPUs\n"
     ]
    }
   ],
   "source": [
    "for i, params in params4final_training.iterrows():\n",
    "    graph_type = GraphTypes.GRAPH if params.graph else GraphTypes.NONE\n",
    "    df, graph = read_osm_data(params.resolution, graph_type)\n",
    "    dataset = H3NeighborDataset(df, graph)\n",
    "    model, trainer = train_w2v_model(f\"w2v_final\",\n",
    "                                    dataset,\n",
    "                                    params.epochs,\n",
    "                                    params.batch_size,\n",
    "                                    params.optim,\n",
    "                                    params.lr,\n",
    "                                    params.first_ls,\n",
    "                                    params.second_ls,\n",
    "                                    final_vector_size,\n",
    "                                    p4wdb={'resolution': params.resolution, 'graph': params.graph})\n",
    "    save_vectors(f\"{params.resolution}{'_g' if params.graph else ''}\", model, df)\n",
    "    clear_output(wait=True)"
   ]
  },
  {
   "cell_type": "code",
   "execution_count": null,
   "metadata": {},
   "outputs": [],
   "source": []
  }
 ],
 "metadata": {
  "interpreter": {
   "hash": "43f41945229dceb886551289960f1b9a44b0b32f7093d7c7f71fbe0a48174f8b"
  },
  "kernelspec": {
   "display_name": "Python 3.9.12 ('base')",
   "language": "python",
   "name": "python3"
  },
  "language_info": {
   "codemirror_mode": {
    "name": "ipython",
    "version": 3
   },
   "file_extension": ".py",
   "mimetype": "text/x-python",
   "name": "python",
   "nbconvert_exporter": "python",
   "pygments_lexer": "ipython3",
   "version": "3.9.12"
  },
  "orig_nbformat": 4
 },
 "nbformat": 4,
 "nbformat_minor": 2
}
