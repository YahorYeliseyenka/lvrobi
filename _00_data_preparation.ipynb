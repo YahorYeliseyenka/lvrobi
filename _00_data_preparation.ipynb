{
 "cells": [
  {
   "cell_type": "code",
   "execution_count": 1,
   "metadata": {},
   "outputs": [],
   "source": [
    "import pandas as pd\n",
    "\n",
    "from datetime import datetime\n",
    "from _lib.data_preparation import remove_substandard_trips, df_calc_basic, df_join_generic_with_gps, read_gpx, calc_context\n",
    "from _lib.data_preparation import get_df_detail_final, get_df_generic_final\n",
    "from _lib.helper import val2year, val2zip, val2utf8, get_filepaths\n",
    "from _lib.settings import DATA_AFTER_PREPARATION_DIR"
   ]
  },
  {
   "cell_type": "markdown",
   "metadata": {},
   "source": [
    "# FR Amiens"
   ]
  },
  {
   "cell_type": "code",
   "execution_count": 2,
   "metadata": {},
   "outputs": [],
   "source": [
    "from _lib.settings import DATA_ORIGIN_AMIENS_DIR\n",
    "\n",
    "\n",
    "SHORT_NAME = 'ami'"
   ]
  },
  {
   "cell_type": "markdown",
   "metadata": {},
   "source": [
    "### 2016"
   ]
  },
  {
   "cell_type": "code",
   "execution_count": 3,
   "metadata": {},
   "outputs": [
    {
     "name": "stderr",
     "output_type": "stream",
     "text": [
      "/home/yyeliseyenka/anaconda3/lib/python3.9/site-packages/IPython/core/interactiveshell.py:3444: DtypeWarning: Columns (6) have mixed types.Specify dtype option on import or set low_memory=False.\n",
      "  exec(code_obj, self.user_global_ns, self.user_ns)\n"
     ]
    },
    {
     "name": "stdout",
     "output_type": "stream",
     "text": [
      "Shape before:  (424910, 8)\n",
      "Removed 0 substandard trips.\n"
     ]
    },
    {
     "name": "stderr",
     "output_type": "stream",
     "text": [
      "distance: 100%|██████████| 424910/424910 [00:01<00:00, 261893.42it/s]\n",
      "duration: 100%|██████████| 424910/424910 [00:01<00:00, 350475.25it/s]\n",
      "start: 100%|██████████| 302537/302537 [00:00<00:00, 404808.37it/s]\n",
      "end: 100%|██████████| 302537/302537 [00:00<00:00, 406753.87it/s]\n",
      "stop: 100%|██████████| 302537/302537 [00:00<00:00, 362978.80it/s]"
     ]
    },
    {
     "name": "stdout",
     "output_type": "stream",
     "text": [
      "Shape after:  (302537, 12)\n"
     ]
    },
    {
     "name": "stderr",
     "output_type": "stream",
     "text": [
      "\n"
     ]
    }
   ],
   "source": [
    "df_ami16 = pd.read_csv(f'{DATA_ORIGIN_AMIENS_DIR}/detail_2016.csv', encoding='windows-1250')\n",
    "\n",
    "print('Shape before: ', df_ami16.shape)\n",
    "\n",
    "''' Column names normalization '''\n",
    "df_ami16.columns = [cname.replace(' ', '').lower() for cname in df_ami16.columns]\n",
    "\n",
    "''' Column data normalization '''\n",
    "df_ami16['tripid'] = SHORT_NAME + df_ami16['tripid'].astype(str).replace(' ', '')\n",
    "\n",
    "df_ami16['timestamp'] = round(df_ami16['timestamp'].apply(lambda x: datetime.fromtimestamp(float(x)).timestamp()))\n",
    "\n",
    "df_ami16 = df_ami16.astype({'latitude': 'float', 'longitude': 'float'})\n",
    "\n",
    "df_ami16 = remove_substandard_trips(df_ami16)\n",
    "df_ami16 = df_calc_basic(df_ami16)\n",
    "\n",
    "print('Shape after: ', df_ami16.shape)"
   ]
  },
  {
   "cell_type": "code",
   "execution_count": 4,
   "metadata": {},
   "outputs": [
    {
     "name": "stdout",
     "output_type": "stream",
     "text": [
      "Shape before:  (2107, 11)\n",
      "Shape after:  (1749, 18)\n"
     ]
    }
   ],
   "source": [
    "df_ami16_generic = pd.read_csv(f'{DATA_ORIGIN_AMIENS_DIR}/generic_2016.csv', encoding='windows-1250')\n",
    "\n",
    "''' Column names normalization '''\n",
    "df_ami16_generic.columns = [cname.replace(' ', '').lower() for cname in df_ami16_generic.columns]\n",
    "\n",
    "df_ami16_generic['tripid'] = SHORT_NAME + df_ami16_generic['tripid'].apply(lambda x: x.replace(' ', ''))\n",
    "df_ami16_generic['distance'] = df_ami16_generic['distance'].astype(float)\n",
    "df_ami16_generic['valid'] = df_ami16_generic[df_ami16_generic['ecc'].notna()]['ecc'].apply(lambda x: False if x == 0 else True)\n",
    "df_ami16_generic['avgspeed'] = df_ami16_generic['avgspeed'].astype(float)\n",
    "df_ami16_generic['tracktype'] = df_ami16_generic[df_ami16_generic['tracktype'].notna()]['tracktype'].apply(val2utf8)\n",
    "df_ami16_generic['male'] = df_ami16_generic[df_ami16_generic['sex'].notna()]['sex'].apply(lambda x: True if str(x).lower() == 'm' else (False if str(x).lower() == 'f' else float('nan')))\n",
    "df_ami16_generic['yearofbirth'] = df_ami16_generic['year'].apply(val2year)\n",
    "df_ami16_generic['profession'] = df_ami16_generic[df_ami16_generic['profession'].notna()]['profession'].apply(val2utf8)\n",
    "df_ami16_generic['frequentuser'] = df_ami16_generic[df_ami16_generic['frequentuser'].notna()]['frequentuser'].apply(lambda x: False if x.lower() in ['no', 'non'] else False)\n",
    "df_ami16_generic['zip'] = df_ami16_generic[df_ami16_generic['zip'].notna()]['zip'].apply(val2zip)\n",
    "df_ami16_generic['source'] = df_ami16_generic[df_ami16_generic['source'].notna()]['source'].apply(val2utf8)\n",
    "df_ami16_generic['typeofbike'] = df_ami16_generic[df_ami16_generic['typeofbike'].notna()]['typeofbike'].apply(val2utf8)\n",
    "df_ami16_generic['typeoftrip'] = df_ami16_generic[df_ami16_generic['tipeoftrip'].notna()]['tipeoftrip'].apply(val2utf8)\n",
    "\n",
    "df_ami16_generic.drop(['timestamp', 'startdt', 'ecc', 'sex', 'year', 'tipeoftrip', 'distance', 'avgspeed'], axis=1, inplace=True)\n",
    "\n",
    "''' Joinig generic data with gps data '''\n",
    "print('Shape before: ', df_ami16_generic.shape)\n",
    "\n",
    "df_ami16_generic = df_join_generic_with_gps(df_ami16_generic, df_ami16)\n",
    "\n",
    "print('Shape after: ', df_ami16_generic.shape)"
   ]
  },
  {
   "cell_type": "markdown",
   "metadata": {},
   "source": [
    "### 2017"
   ]
  },
  {
   "cell_type": "code",
   "execution_count": 5,
   "metadata": {},
   "outputs": [
    {
     "name": "stdout",
     "output_type": "stream",
     "text": [
      "Shape before:  (904274, 8)\n",
      "Removed 54 substandard trips.\n"
     ]
    },
    {
     "name": "stderr",
     "output_type": "stream",
     "text": [
      "distance: 100%|██████████| 860377/860377 [00:03<00:00, 272769.09it/s]\n",
      "duration: 100%|██████████| 860377/860377 [00:02<00:00, 374970.19it/s]\n",
      "start: 100%|██████████| 857008/857008 [00:01<00:00, 433511.45it/s]\n",
      "end: 100%|██████████| 857008/857008 [00:02<00:00, 424642.40it/s]\n",
      "stop: 100%|██████████| 857008/857008 [00:02<00:00, 360217.43it/s]"
     ]
    },
    {
     "name": "stdout",
     "output_type": "stream",
     "text": [
      "Shape after:  (857008, 12)\n"
     ]
    },
    {
     "name": "stderr",
     "output_type": "stream",
     "text": [
      "\n"
     ]
    }
   ],
   "source": [
    "df_ami17 = pd.read_csv(f'{DATA_ORIGIN_AMIENS_DIR}/detail_2017.csv', encoding='windows-1250', sep=';')\n",
    "\n",
    "print('Shape before: ', df_ami17.shape)\n",
    "\n",
    "''' Column names normalization '''\n",
    "df_ami17.columns = [cname.replace(' ', '').lower() for cname in df_ami17.columns]\n",
    "\n",
    "''' Column data normalization '''\n",
    "df_ami17['tripid'] = SHORT_NAME + df_ami17['tripid'].astype(str).replace(' ', '')\n",
    "\n",
    "df_ami17['timestamp'] = df_ami17['timestamp'].apply(lambda x: round(datetime.fromtimestamp(float(x)).timestamp()))\n",
    "df_ami17['latitude'] = df_ami17['latitude'].str.replace(',', '.').astype(float)\n",
    "df_ami17['longitude'] = df_ami17['longitude'].str.replace(',', '.').astype(float)\n",
    "df_ami17['altitude'] = df_ami17['altitude'].astype(float)\n",
    "\n",
    "df_ami17 = remove_substandard_trips(df_ami17)\n",
    "df_ami17 = df_calc_basic(df_ami17)\n",
    "\n",
    "print('Shape after: ', df_ami17.shape)"
   ]
  },
  {
   "cell_type": "code",
   "execution_count": 6,
   "metadata": {},
   "outputs": [
    {
     "name": "stdout",
     "output_type": "stream",
     "text": [
      "Shape before:  (2350, 6)\n",
      "Shape after:  (1622, 13)\n"
     ]
    }
   ],
   "source": [
    "df_ami17_generic = pd.read_csv(f'{DATA_ORIGIN_AMIENS_DIR}/generic_2017.csv', encoding='windows-1250', sep=';')\n",
    "\n",
    "''' Column names normalization '''\n",
    "df_ami17_generic.columns = [cname.replace(' ', '').lower() for cname in df_ami17_generic.columns]\n",
    "\n",
    "''' Column data normalization '''\n",
    "df_ami17_generic['tripid'] = SHORT_NAME + df_ami17_generic['tripid'].astype(str).replace(' ', '')\n",
    "df_ami17_generic['avgspeed'] = df_ami17_generic['avgspeed'].str.replace(',', '.').astype(float)\n",
    "df_ami17_generic['distance'] = df_ami17_generic['totallength'].str.replace(',', '.').astype(float)\n",
    "df_ami17_generic['valid'] = df_ami17_generic['valid'].apply(lambda x: False if str(x).lower() == 'no' else True)\n",
    "df_ami17_generic['male'] = df_ami17_generic[df_ami17_generic['sex'].notna()]['sex'].apply(lambda x: True if str(x).lower() == 'male' else (False if str(x).lower() == 'female' else float('nan')))\n",
    "df_ami17_generic['yearofbirth'] = df_ami17_generic['yearofbirth'].apply(val2year)\n",
    "df_ami17_generic['typeofbike'] = df_ami17_generic[df_ami17_generic['typeofbike'].notna()]['typeofbike'].apply(val2utf8)\n",
    "df_ami17_generic['typeoftrip'] = df_ami17_generic[df_ami17_generic['typeoftrip'].notna()]['typeoftrip'].apply(val2utf8)\n",
    "\n",
    "df_ami17_generic.drop(['uploaded', 'sex', 'timestamp', 'startdate', 'starttime', 'duration', 'maxspeed', 'totallength', 'lengthvalid', 'avgspeed', 'distance'], axis=1, inplace=True)\n",
    "\n",
    "''' Joinig generic data with gps data '''\n",
    "print('Shape before: ', df_ami17_generic.shape)\n",
    "\n",
    "df_ami17_generic = df_join_generic_with_gps(df_ami17_generic, df_ami17)\n",
    "\n",
    "print('Shape after: ', df_ami17_generic.shape)"
   ]
  },
  {
   "cell_type": "markdown",
   "metadata": {},
   "source": [
    "### Removing overall columns & records"
   ]
  },
  {
   "cell_type": "code",
   "execution_count": 7,
   "metadata": {},
   "outputs": [
    {
     "name": "stdout",
     "output_type": "stream",
     "text": [
      "Shape before. 2016: (302537, 12) 2017: (857008, 12)\n",
      "Shape after. 2016: (270679, 7) 2017: (760805, 7)\n"
     ]
    }
   ],
   "source": [
    "''' DETAIL '''\n",
    "\n",
    "print('Shape before. 2016:', df_ami16.shape, '2017:', df_ami17.shape)\n",
    "\n",
    "df_ami16 = get_df_detail_final(df_ami16, df_ami16_generic)\n",
    "\n",
    "df_ami17 = get_df_detail_final(df_ami17, df_ami17_generic)\n",
    "\n",
    "print('Shape after. 2016:', df_ami16.shape, '2017:', df_ami17.shape)"
   ]
  },
  {
   "cell_type": "code",
   "execution_count": 8,
   "metadata": {},
   "outputs": [
    {
     "name": "stdout",
     "output_type": "stream",
     "text": [
      "Shape before. 2015: (1749, 18) 2016: (1622, 13)\n",
      "Shape before. 2015: (1749, 16) 2016: (1622, 13)\n"
     ]
    }
   ],
   "source": [
    "''' GENERIC '''\n",
    "\n",
    "print('Shape before. 2015:', df_ami16_generic.shape, '2016:', df_ami17_generic.shape)\n",
    "\n",
    "df_ami16_generic = get_df_generic_final(df_ami16_generic, ['tracktype', 'source', 'profession', 'male', 'frequentuser', 'zip', 'yearofbirth', 'valid'])\n",
    "df_ami17_generic = get_df_generic_final(df_ami17_generic, ['typeofbike', 'typeoftrip', 'male', 'yearofbirth', 'valid'])\n",
    "\n",
    "print('Shape before. 2015:', df_ami16_generic.shape, '2016:', df_ami17_generic.shape)"
   ]
  },
  {
   "cell_type": "markdown",
   "metadata": {},
   "source": [
    "### Datasets concatenaton"
   ]
  },
  {
   "cell_type": "code",
   "execution_count": 9,
   "metadata": {},
   "outputs": [
    {
     "name": "stdout",
     "output_type": "stream",
     "text": [
      "<class 'pandas.core.frame.DataFrame'>\n",
      "RangeIndex: 1031484 entries, 0 to 1031483\n",
      "Data columns (total 7 columns):\n",
      " #   Column     Non-Null Count    Dtype  \n",
      "---  ------     --------------    -----  \n",
      " 0   tripid     1031484 non-null  object \n",
      " 1   latitude   1031484 non-null  float64\n",
      " 2   longitude  1031484 non-null  float64\n",
      " 3   timestamp  1031484 non-null  float64\n",
      " 4   stop       1031484 non-null  float64\n",
      " 5   distance   1031484 non-null  float64\n",
      " 6   duration   1031484 non-null  float64\n",
      "dtypes: float64(6), object(1)\n",
      "memory usage: 55.1+ MB\n"
     ]
    }
   ],
   "source": [
    "df_ami = pd.concat([df_ami16, df_ami17], ignore_index=True)\n",
    "df_ami.info()"
   ]
  },
  {
   "cell_type": "code",
   "execution_count": 10,
   "metadata": {},
   "outputs": [
    {
     "name": "stdout",
     "output_type": "stream",
     "text": [
      "<class 'pandas.core.frame.DataFrame'>\n",
      "RangeIndex: 3371 entries, 0 to 3370\n",
      "Data columns (total 18 columns):\n",
      " #   Column         Non-Null Count  Dtype  \n",
      "---  ------         --------------  -----  \n",
      " 0   tripid         3371 non-null   object \n",
      " 1   speedmin       3371 non-null   float64\n",
      " 2   speedmax       3371 non-null   float64\n",
      " 3   speedmean      3371 non-null   float64\n",
      " 4   speedavg_real  3371 non-null   float64\n",
      " 5   distance       3371 non-null   float64\n",
      " 6   startts        3371 non-null   float64\n",
      " 7   endts          3371 non-null   float64\n",
      " 8   tracktype      1749 non-null   object \n",
      " 9   source         1749 non-null   object \n",
      " 10  profession     1292 non-null   object \n",
      " 11  male           1850 non-null   object \n",
      " 12  frequentuser   1749 non-null   object \n",
      " 13  zip            845 non-null    object \n",
      " 14  yearofbirth    1947 non-null   object \n",
      " 15  valid          3371 non-null   bool   \n",
      " 16  typeofbike     1131 non-null   object \n",
      " 17  typeoftrip     1142 non-null   object \n",
      "dtypes: bool(1), float64(7), object(10)\n",
      "memory usage: 451.1+ KB\n"
     ]
    }
   ],
   "source": [
    "df_ami_generic = pd.concat([df_ami16_generic, df_ami17_generic], ignore_index=True)\n",
    "df_ami_generic.info()"
   ]
  },
  {
   "cell_type": "markdown",
   "metadata": {},
   "source": [
    "### Saving operations"
   ]
  },
  {
   "cell_type": "code",
   "execution_count": 11,
   "metadata": {},
   "outputs": [],
   "source": [
    "df_ami.to_csv(f'{DATA_AFTER_PREPARATION_DIR}/{SHORT_NAME}.csv', index=False, sep=';')\n",
    "df_ami_generic.to_csv(f'{DATA_AFTER_PREPARATION_DIR}/{SHORT_NAME}_generic.csv', index=False, sep=';')"
   ]
  },
  {
   "cell_type": "markdown",
   "metadata": {},
   "source": [
    "# PL Wroclaw"
   ]
  },
  {
   "cell_type": "code",
   "execution_count": 12,
   "metadata": {},
   "outputs": [],
   "source": [
    "from tqdm import tqdm\n",
    "from _lib.settings import DATA_ORIGIN_WROCLAW_DIR\n",
    "\n",
    "\n",
    "SHORT_NAME = 'wro'"
   ]
  },
  {
   "cell_type": "markdown",
   "metadata": {},
   "source": [
    "### 2015"
   ]
  },
  {
   "cell_type": "code",
   "execution_count": 13,
   "metadata": {},
   "outputs": [
    {
     "name": "stderr",
     "output_type": "stream",
     "text": [
      "/home/yyeliseyenka/anaconda3/lib/python3.9/site-packages/IPython/core/interactiveshell.py:3444: DtypeWarning: Columns (1,7) have mixed types.Specify dtype option on import or set low_memory=False.\n",
      "  exec(code_obj, self.user_global_ns, self.user_ns)\n"
     ]
    },
    {
     "name": "stdout",
     "output_type": "stream",
     "text": [
      "Shape before:  (20931869, 9)\n",
      "Removed 21 substandard trips.\n"
     ]
    },
    {
     "name": "stderr",
     "output_type": "stream",
     "text": [
      "timestamp: 100%|██████████| 20931208/20931208 [00:38<00:00, 545502.85it/s]\n"
     ]
    },
    {
     "name": "stdout",
     "output_type": "stream",
     "text": [
      "Removed 1 substandard trips.\n"
     ]
    },
    {
     "name": "stderr",
     "output_type": "stream",
     "text": [
      "distance: 100%|██████████| 20930880/20930880 [01:14<00:00, 282470.99it/s]\n",
      "duration: 100%|██████████| 20930880/20930880 [00:53<00:00, 389124.88it/s]\n",
      "start: 100%|██████████| 16257363/16257363 [00:36<00:00, 449012.16it/s]\n",
      "end: 100%|██████████| 16257363/16257363 [00:36<00:00, 441131.85it/s]\n",
      "stop: 100%|██████████| 16257363/16257363 [00:41<00:00, 390253.95it/s]\n"
     ]
    },
    {
     "name": "stdout",
     "output_type": "stream",
     "text": [
      "Shape after:  (16257363, 13)\n"
     ]
    }
   ],
   "source": [
    "df_wro15 = pd.read_csv(f'{DATA_ORIGIN_WROCLAW_DIR}/detail_2015.csv', encoding='windows-1250', skiprows=[9627453])\n",
    "\n",
    "print('Shape before: ', df_wro15.shape)\n",
    "\n",
    "''' Column names normalization '''\n",
    "df_wro15.columns = [cname.replace(' ', '').lower() for cname in df_wro15.columns]\n",
    "\n",
    "''' Column data normalization '''\n",
    "df_wro15['tripid'] = SHORT_NAME + df_wro15['tripid'].astype(str).replace(' ', '')\n",
    "\n",
    "df_wro15 = df_wro15.astype({'latitude': 'float', 'longitude': 'float'})\n",
    "df_wro15 = remove_substandard_trips(df_wro15)\n",
    "\n",
    "tqdm.pandas(desc='timestamp')\n",
    "df_wro15['timestamp'] = df_wro15['timestamp'].progress_apply(lambda x: float('nan') if str(x).lower() in ['false', 'nan'] else round(datetime.fromtimestamp(float(x)).timestamp()))\n",
    "\n",
    "df_wro15 = remove_substandard_trips(df_wro15)\n",
    "df_wro15 = df_calc_basic(df_wro15)\n",
    "\n",
    "print('Shape after: ', df_wro15.shape)"
   ]
  },
  {
   "cell_type": "code",
   "execution_count": 14,
   "metadata": {},
   "outputs": [
    {
     "name": "stdout",
     "output_type": "stream",
     "text": [
      "Shape before:  (49941, 9)\n",
      "Shape after:  (49167, 16)\n"
     ]
    }
   ],
   "source": [
    "df_wro15_generic = pd.read_csv(f'{DATA_ORIGIN_WROCLAW_DIR}/generic_2015.csv')\n",
    "\n",
    "''' Column names normalization '''\n",
    "df_wro15_generic.columns = [cname.replace(' ', '').lower() for cname in df_wro15_generic.columns]\n",
    "\n",
    "''' Column data normalization '''\n",
    "df_wro15_generic['tripid'] = SHORT_NAME + df_wro15_generic['tripid'].apply(lambda id: id.replace(' ', ''))\n",
    "df_wro15_generic['distance'] = df_wro15_generic['distance'].astype(float)\n",
    "df_wro15_generic['valid'] = df_wro15_generic[df_wro15_generic['ecc'].notna()]['ecc'].apply(lambda x: False if x == 0 else True)\n",
    "df_wro15_generic['avgspeed'] = df_wro15_generic['avgspeed'].astype(float)\n",
    "df_wro15_generic['tracktype'] = df_wro15_generic[df_wro15_generic['tracktype'].notna()]['tracktype'].apply(val2utf8)\n",
    "df_wro15_generic['male'] = df_wro15_generic[df_wro15_generic['sex'].notna()]['sex'].apply(lambda x: True if str(x).lower() == 'm' else (False if str(x).lower() == 'f' else float('nan')))\n",
    "df_wro15_generic['yearofbirth'] = df_wro15_generic['year'].apply(val2year)\n",
    "df_wro15_generic['profession'] = df_wro15_generic[df_wro15_generic['profession'].notna()]['profession'].apply(val2utf8)\n",
    "df_wro15_generic['frequentuser'] = df_wro15_generic[df_wro15_generic['frequentuser'].notna()]['frequentuser'].apply(lambda x: False if x.lower() == 'no' else True)\n",
    "df_wro15_generic['zip'] = df_wro15_generic[df_wro15_generic['zip'].notna()]['zip'].apply(val2zip)\n",
    "df_wro15_generic['source'] = df_wro15_generic[df_wro15_generic['source'].notna()]['source'].apply(val2utf8)\n",
    "\n",
    "df_wro15_generic.drop(['timestamp', 'startdt', 'ecc', 'sex', 'year', 'distance', 'avgspeed'], axis=1, inplace=True)\n",
    "\n",
    "''' Joinig generic data with gps data '''\n",
    "print('Shape before: ', df_wro15_generic.shape)\n",
    "\n",
    "df_wro15_generic = df_join_generic_with_gps(df_wro15_generic, df_wro15)\n",
    "\n",
    "print('Shape after: ', df_wro15_generic.shape)"
   ]
  },
  {
   "cell_type": "markdown",
   "metadata": {},
   "source": [
    "### 2016"
   ]
  },
  {
   "cell_type": "code",
   "execution_count": 15,
   "metadata": {},
   "outputs": [
    {
     "name": "stderr",
     "output_type": "stream",
     "text": [
      "/home/yyeliseyenka/anaconda3/lib/python3.9/site-packages/IPython/core/interactiveshell.py:3444: DtypeWarning: Columns (4,6) have mixed types.Specify dtype option on import or set low_memory=False.\n",
      "  exec(code_obj, self.user_global_ns, self.user_ns)\n"
     ]
    },
    {
     "name": "stdout",
     "output_type": "stream",
     "text": [
      "Shape before:  (22455984, 8)\n",
      "Removed 2 substandard trips.\n"
     ]
    },
    {
     "name": "stderr",
     "output_type": "stream",
     "text": [
      "timestamp: 100%|██████████| 22453198/22453198 [00:41<00:00, 540933.95it/s]\n"
     ]
    },
    {
     "name": "stdout",
     "output_type": "stream",
     "text": [
      "Removed 0 substandard trips.\n"
     ]
    },
    {
     "name": "stderr",
     "output_type": "stream",
     "text": [
      "distance: 100%|██████████| 22453198/22453198 [01:20<00:00, 277667.38it/s]\n",
      "duration: 100%|██████████| 22453198/22453198 [00:57<00:00, 387965.16it/s]\n",
      "start: 100%|██████████| 18056401/18056401 [00:39<00:00, 453814.90it/s]\n",
      "end: 100%|██████████| 18056401/18056401 [00:40<00:00, 447532.20it/s]\n",
      "stop: 100%|██████████| 18056401/18056401 [00:47<00:00, 383406.75it/s]\n"
     ]
    },
    {
     "name": "stdout",
     "output_type": "stream",
     "text": [
      "Shape after:  (18056401, 12)\n"
     ]
    }
   ],
   "source": [
    "df_wro16 = pd.read_csv(f'{DATA_ORIGIN_WROCLAW_DIR}/detail_2016.csv', encoding='windows-1250', skiprows=[11184484])\n",
    "\n",
    "print('Shape before: ', df_wro16.shape)\n",
    "\n",
    "''' Column names normalization '''\n",
    "df_wro16.columns = [cname.replace(' ', '').lower() for cname in df_wro16.columns]\n",
    "\n",
    "''' Column data normalization '''\n",
    "df_wro16['tripid'] = SHORT_NAME + df_wro16['tripid'].astype(str).replace(' ', '')\n",
    "\n",
    "df_wro16 = df_wro16.astype({'latitude': 'float', 'longitude': 'float'})\n",
    "df_wro16 = remove_substandard_trips(df_wro16)\n",
    "\n",
    "tqdm.pandas(desc='timestamp')\n",
    "df_wro16['timestamp'] = df_wro16['timestamp'].progress_apply(lambda x: float('nan') if str(x).lower() in ['false', 'nan'] else round(datetime.fromtimestamp(float(x)).timestamp()))\n",
    "\n",
    "df_wro16 = remove_substandard_trips(df_wro16)\n",
    "df_wro16 = df_calc_basic(df_wro16)\n",
    "\n",
    "print('Shape after: ', df_wro16.shape)"
   ]
  },
  {
   "cell_type": "code",
   "execution_count": 16,
   "metadata": {},
   "outputs": [
    {
     "name": "stdout",
     "output_type": "stream",
     "text": [
      "Shape before:  (42384, 12)\n",
      "Shape after:  (41288, 19)\n"
     ]
    }
   ],
   "source": [
    "df_wro16_generic = pd.read_csv(f'{DATA_ORIGIN_WROCLAW_DIR}/generic_2016.csv')\n",
    "\n",
    "''' Column names normalization '''\n",
    "df_wro16_generic.columns = [cname.replace(' ', '').lower() for cname in df_wro16_generic.columns]\n",
    "\n",
    "''' Column data normalization '''\n",
    "df_wro16_generic['tripid'] = SHORT_NAME + df_wro16_generic['tripid'].apply(lambda x: x.replace(' ', ''))\n",
    "df_wro16_generic['distance'] = df_wro16_generic['distance'].astype(float)\n",
    "df_wro16_generic['valid'] = df_wro16_generic[df_wro16_generic['ecc'].notna()]['ecc'].apply(lambda x: False if x == 0 else True)\n",
    "df_wro16_generic['avgspeed'] = df_wro16_generic['avgspeed'].astype(float)\n",
    "df_wro16_generic['tracktype'] = df_wro16_generic[df_wro16_generic['tracktype'].notna()]['tracktype'].apply(val2utf8)\n",
    "df_wro16_generic['male'] = df_wro16_generic[df_wro16_generic['sex'].notna()]['sex'].apply(lambda x: True if str(x).lower() == 'm' else (False if str(x).lower() == 'f' else float('nan')))\n",
    "df_wro16_generic['yearofbirth'] = df_wro16_generic['year'].apply(val2year)\n",
    "df_wro16_generic['profession'] = df_wro16_generic[df_wro16_generic['profession'].notna()]['profession'].apply(val2utf8)\n",
    "df_wro16_generic['frequentuser'] = df_wro16_generic[df_wro16_generic['frequentuser'].notna()]['frequentuser'].apply(lambda x: False if x.lower() in ['no', 'nie'] else False)\n",
    "df_wro16_generic['zip'] = df_wro16_generic[df_wro16_generic['zip'].notna()]['zip'].apply(val2zip)\n",
    "df_wro16_generic['source'] = df_wro16_generic[df_wro16_generic['source'].notna()]['source'].apply(val2utf8)\n",
    "df_wro16_generic['typeofbike'] = df_wro16_generic[df_wro16_generic['typeofbike'].notna()]['typeofbike'].apply(val2utf8)\n",
    "df_wro16_generic['typeoftrip'] = df_wro16_generic[df_wro16_generic['tipeoftrip'].notna()]['tipeoftrip'].apply(val2utf8)\n",
    "\n",
    "df_wro16_generic.drop(['timestamp', 'startdt', 'ecc', 'sex', 'year', 'distance', 'avgspeed'], axis=1, inplace=True)\n",
    "\n",
    "''' Joinig generic data with gps data '''\n",
    "print('Shape before: ', df_wro16_generic.shape)\n",
    "\n",
    "df_wro16_generic = df_join_generic_with_gps(df_wro16_generic, df_wro16)\n",
    "\n",
    "print('Shape after: ', df_wro16_generic.shape)"
   ]
  },
  {
   "cell_type": "markdown",
   "metadata": {},
   "source": [
    "### Removing overall columns & records"
   ]
  },
  {
   "cell_type": "code",
   "execution_count": 17,
   "metadata": {},
   "outputs": [
    {
     "name": "stdout",
     "output_type": "stream",
     "text": [
      "Shape before. 2015: (16257363, 13) 2016: (18056401, 12)\n",
      "Shape after. 2015: (16070202, 7) 2016: (17822688, 7)\n"
     ]
    }
   ],
   "source": [
    "''' DETAIL '''\n",
    "\n",
    "print('Shape before. 2015:', df_wro15.shape, '2016:', df_wro16.shape)\n",
    "\n",
    "df_wro15 = get_df_detail_final(df_wro15, df_wro15_generic)\n",
    "df_wro16 = get_df_detail_final(df_wro16, df_wro16_generic)\n",
    "\n",
    "print('Shape after. 2015:', df_wro15.shape, '2016:', df_wro16.shape)"
   ]
  },
  {
   "cell_type": "code",
   "execution_count": 18,
   "metadata": {},
   "outputs": [
    {
     "name": "stdout",
     "output_type": "stream",
     "text": [
      "Shape before. 2015: (49167, 16) 2016: (41288, 19)\n",
      "Shape before. 2015: (49167, 16) 2016: (41288, 18)\n"
     ]
    }
   ],
   "source": [
    "''' GENERIC '''\n",
    "\n",
    "print('Shape before. 2015:', df_wro15_generic.shape, '2016:', df_wro16_generic.shape)\n",
    "\n",
    "df_wro15_generic = get_df_generic_final(df_wro15_generic, ['tracktype', 'source', 'profession', 'male', 'frequentuser', 'zip', 'yearofbirth', 'valid'])\n",
    "df_wro16_generic = get_df_generic_final(df_wro16_generic, ['tracktype', 'typeofbike', 'typeoftrip', 'source', 'profession', 'male', 'frequentuser', 'zip', 'yearofbirth', 'valid'])\n",
    "\n",
    "print('Shape before. 2015:', df_wro15_generic.shape, '2016:', df_wro16_generic.shape)"
   ]
  },
  {
   "cell_type": "markdown",
   "metadata": {},
   "source": [
    "### Datasets concatenaton"
   ]
  },
  {
   "cell_type": "code",
   "execution_count": 19,
   "metadata": {},
   "outputs": [
    {
     "name": "stdout",
     "output_type": "stream",
     "text": [
      "<class 'pandas.core.frame.DataFrame'>\n",
      "RangeIndex: 33892890 entries, 0 to 33892889\n",
      "Data columns (total 7 columns):\n",
      " #   Column     Dtype  \n",
      "---  ------     -----  \n",
      " 0   tripid     object \n",
      " 1   latitude   float64\n",
      " 2   longitude  float64\n",
      " 3   timestamp  float64\n",
      " 4   stop       float64\n",
      " 5   distance   float64\n",
      " 6   duration   float64\n",
      "dtypes: float64(6), object(1)\n",
      "memory usage: 1.8+ GB\n"
     ]
    }
   ],
   "source": [
    "df_wro = pd.concat([df_wro15, df_wro16], ignore_index=True)\n",
    "df_wro.info()"
   ]
  },
  {
   "cell_type": "code",
   "execution_count": 20,
   "metadata": {},
   "outputs": [
    {
     "name": "stdout",
     "output_type": "stream",
     "text": [
      "<class 'pandas.core.frame.DataFrame'>\n",
      "RangeIndex: 90455 entries, 0 to 90454\n",
      "Data columns (total 18 columns):\n",
      " #   Column         Non-Null Count  Dtype  \n",
      "---  ------         --------------  -----  \n",
      " 0   tripid         90455 non-null  object \n",
      " 1   speedmin       90455 non-null  float64\n",
      " 2   speedmax       90455 non-null  float64\n",
      " 3   speedmean      90455 non-null  float64\n",
      " 4   speedavg_real  90455 non-null  float64\n",
      " 5   distance       90455 non-null  float64\n",
      " 6   startts        90455 non-null  float64\n",
      " 7   endts          90455 non-null  float64\n",
      " 8   tracktype      90455 non-null  object \n",
      " 9   source         90455 non-null  object \n",
      " 10  profession     67426 non-null  object \n",
      " 11  male           79247 non-null  object \n",
      " 12  frequentuser   90434 non-null  object \n",
      " 13  zip            54733 non-null  object \n",
      " 14  yearofbirth    74260 non-null  object \n",
      " 15  valid          90455 non-null  bool   \n",
      " 16  typeofbike     20551 non-null  object \n",
      " 17  typeoftrip     20532 non-null  object \n",
      "dtypes: bool(1), float64(7), object(10)\n",
      "memory usage: 11.8+ MB\n"
     ]
    }
   ],
   "source": [
    "df_wro_generic = pd.concat([df_wro15_generic, df_wro16_generic], ignore_index=True)\n",
    "df_wro_generic.info()"
   ]
  },
  {
   "cell_type": "markdown",
   "metadata": {},
   "source": [
    "### Saving operations"
   ]
  },
  {
   "cell_type": "code",
   "execution_count": 21,
   "metadata": {},
   "outputs": [],
   "source": [
    "df_wro.to_csv(f'{DATA_AFTER_PREPARATION_DIR}/{SHORT_NAME}.csv', index=False, sep=';')\n",
    "df_wro_generic.to_csv(f'{DATA_AFTER_PREPARATION_DIR}/{SHORT_NAME}_generic.csv', index=False, sep=';')"
   ]
  },
  {
   "cell_type": "markdown",
   "metadata": {},
   "source": [
    "# SE Orebro"
   ]
  },
  {
   "cell_type": "code",
   "execution_count": 22,
   "metadata": {},
   "outputs": [],
   "source": [
    "from _lib.settings import DATA_ORIGIN_OREBRO_DIR\n",
    "\n",
    "\n",
    "SHORT_NAME = 'ore'"
   ]
  },
  {
   "cell_type": "markdown",
   "metadata": {},
   "source": [
    "### 2015"
   ]
  },
  {
   "cell_type": "code",
   "execution_count": 23,
   "metadata": {},
   "outputs": [
    {
     "name": "stderr",
     "output_type": "stream",
     "text": [
      "100%|██████████| 2156/2156 [00:43<00:00, 49.50it/s]\n"
     ]
    },
    {
     "data": {
      "text/plain": [
       "((648689, 5), (2156, 3))"
      ]
     },
     "execution_count": 23,
     "metadata": {},
     "output_type": "execute_result"
    }
   ],
   "source": [
    "df_ore15, df_ore15_generic = read_gpx(f'{DATA_ORIGIN_OREBRO_DIR}/2015', SHORT_NAME)\n",
    "\n",
    "df_ore15.shape, df_ore15_generic.shape"
   ]
  },
  {
   "cell_type": "code",
   "execution_count": 24,
   "metadata": {},
   "outputs": [
    {
     "name": "stdout",
     "output_type": "stream",
     "text": [
      "Shape before:  (648689, 5)\n",
      "Removed 9 substandard trips.\n"
     ]
    },
    {
     "name": "stderr",
     "output_type": "stream",
     "text": [
      "distance: 100%|██████████| 648398/648398 [00:02<00:00, 264953.65it/s]\n",
      "duration: 100%|██████████| 648398/648398 [00:01<00:00, 362511.45it/s]\n",
      "start: 100%|██████████| 508976/508976 [00:01<00:00, 419804.70it/s]\n",
      "end: 100%|██████████| 508976/508976 [00:01<00:00, 402279.90it/s]\n",
      "stop: 100%|██████████| 508976/508976 [00:01<00:00, 352895.86it/s]"
     ]
    },
    {
     "name": "stdout",
     "output_type": "stream",
     "text": [
      "Shape after:  (508976, 11)\n"
     ]
    },
    {
     "name": "stderr",
     "output_type": "stream",
     "text": [
      "\n"
     ]
    }
   ],
   "source": [
    "print('Shape before: ', df_ore15.shape)\n",
    "\n",
    "df_ore15 = remove_substandard_trips(df_ore15)\n",
    "df_ore15 = df_calc_basic(df_ore15)\n",
    "\n",
    "print('Shape after: ', df_ore15.shape)"
   ]
  },
  {
   "cell_type": "code",
   "execution_count": 25,
   "metadata": {},
   "outputs": [
    {
     "name": "stdout",
     "output_type": "stream",
     "text": [
      "Shape before:  (2156, 3)\n",
      "Shape after:  (2110, 10)\n"
     ]
    }
   ],
   "source": [
    "''' Joinig generic data with gps data '''\n",
    "print('Shape before: ', df_ore15_generic.shape)\n",
    "\n",
    "df_ore15_generic = df_join_generic_with_gps(df_ore15_generic, df_ore15)\n",
    "\n",
    "print('Shape after: ', df_ore15_generic.shape)"
   ]
  },
  {
   "cell_type": "markdown",
   "metadata": {},
   "source": [
    "### 2016"
   ]
  },
  {
   "cell_type": "code",
   "execution_count": 26,
   "metadata": {},
   "outputs": [],
   "source": [
    "# df_ore16, df_ore16_generic = read_gpx(f'{DATA_ORIGIN_OREBRO_DIR}/2016', SHORT_NAME)\n",
    "\n",
    "# df_ore16 = remove_substandard_trips(df_ore16)\n",
    "\n",
    "# df_ore16.shape, df_ore16_generic.shape"
   ]
  },
  {
   "cell_type": "code",
   "execution_count": 27,
   "metadata": {},
   "outputs": [],
   "source": [
    "# print('Shape before: ', df_ore16.shape)\n",
    "\n",
    "# df_ore16 = remove_substandard_trips(df_ore16)\n",
    "# df_ore16 = df_calc_basic(df_ore16)\n",
    "\n",
    "# ''' Removing points with 0 distance passed '''\n",
    "# df_ore16 = df_ore16[(df_ore16['distance'] != 0) | (df_ore16['end']) | (df_ore16['start'])]\n",
    "\n",
    "# print('Shape after: ', df_ore16.shape)"
   ]
  },
  {
   "cell_type": "code",
   "execution_count": 28,
   "metadata": {},
   "outputs": [],
   "source": [
    "# ''' Joinig generic data with gps data '''\n",
    "# print('Shape before: ', df_ore16_generic.shape)\n",
    "\n",
    "# df_ore16_generic = df_join_generic_with_gps(df_ore16_generic, df_ore16)\n",
    "\n",
    "# print('Shape after: ', df_ore16_generic.shape)"
   ]
  },
  {
   "cell_type": "markdown",
   "metadata": {},
   "source": [
    "### Removing overall columns & records"
   ]
  },
  {
   "cell_type": "code",
   "execution_count": 29,
   "metadata": {},
   "outputs": [
    {
     "name": "stdout",
     "output_type": "stream",
     "text": [
      "Shape before: (508976, 11)\n",
      "Shape after: (506185, 7)\n"
     ]
    }
   ],
   "source": [
    "''' DETAIL '''\n",
    "\n",
    "print('Shape before:', df_ore15.shape)\n",
    "\n",
    "df_ore15 = get_df_detail_final(df_ore15, df_ore15_generic)\n",
    "\n",
    "print('Shape after:', df_ore15.shape)"
   ]
  },
  {
   "cell_type": "code",
   "execution_count": 30,
   "metadata": {},
   "outputs": [
    {
     "name": "stdout",
     "output_type": "stream",
     "text": [
      "Shape before: (2110, 10)\n",
      "Shape after: (2110, 9)\n"
     ]
    }
   ],
   "source": [
    "''' GENERIC '''\n",
    "\n",
    "print('Shape before:', df_ore15_generic.shape)\n",
    "\n",
    "df_ore15_generic = get_df_generic_final(df_ore15_generic, ['email'])\n",
    "\n",
    "print('Shape after:', df_ore15_generic.shape)"
   ]
  },
  {
   "cell_type": "code",
   "execution_count": 31,
   "metadata": {},
   "outputs": [
    {
     "name": "stdout",
     "output_type": "stream",
     "text": [
      "<class 'pandas.core.frame.DataFrame'>\n",
      "Int64Index: 506185 entries, 0 to 508975\n",
      "Data columns (total 7 columns):\n",
      " #   Column     Non-Null Count   Dtype  \n",
      "---  ------     --------------   -----  \n",
      " 0   tripid     506185 non-null  object \n",
      " 1   latitude   506185 non-null  float64\n",
      " 2   longitude  506185 non-null  float64\n",
      " 3   timestamp  506185 non-null  float64\n",
      " 4   stop       506185 non-null  float64\n",
      " 5   distance   506185 non-null  float64\n",
      " 6   duration   506185 non-null  float64\n",
      "dtypes: float64(6), object(1)\n",
      "memory usage: 30.9+ MB\n"
     ]
    }
   ],
   "source": [
    "df_ore15.info()"
   ]
  },
  {
   "cell_type": "code",
   "execution_count": 32,
   "metadata": {},
   "outputs": [
    {
     "name": "stdout",
     "output_type": "stream",
     "text": [
      "<class 'pandas.core.frame.DataFrame'>\n",
      "RangeIndex: 2110 entries, 0 to 2109\n",
      "Data columns (total 9 columns):\n",
      " #   Column         Non-Null Count  Dtype  \n",
      "---  ------         --------------  -----  \n",
      " 0   tripid         2110 non-null   object \n",
      " 1   speedmin       2110 non-null   float64\n",
      " 2   speedmax       2110 non-null   float64\n",
      " 3   speedmean      2110 non-null   float64\n",
      " 4   speedavg_real  2110 non-null   float64\n",
      " 5   distance       2110 non-null   float64\n",
      " 6   startts        2110 non-null   float64\n",
      " 7   endts          2110 non-null   float64\n",
      " 8   email          2110 non-null   object \n",
      "dtypes: float64(7), object(2)\n",
      "memory usage: 148.5+ KB\n"
     ]
    }
   ],
   "source": [
    "df_ore15_generic.info()"
   ]
  },
  {
   "cell_type": "markdown",
   "metadata": {},
   "source": [
    "### Saving operations"
   ]
  },
  {
   "cell_type": "code",
   "execution_count": 33,
   "metadata": {},
   "outputs": [],
   "source": [
    "df_ore15.to_csv(f'{DATA_AFTER_PREPARATION_DIR}/{SHORT_NAME}.csv', index=False, sep=';')\n",
    "df_ore15_generic.to_csv(f'{DATA_AFTER_PREPARATION_DIR}/{SHORT_NAME}_generic.csv', index=False, sep=';')"
   ]
  },
  {
   "cell_type": "markdown",
   "metadata": {},
   "source": [
    "# DE Oldenburg"
   ]
  },
  {
   "cell_type": "code",
   "execution_count": 34,
   "metadata": {},
   "outputs": [],
   "source": [
    "import os\n",
    "import numpy as np\n",
    "\n",
    "from tqdm import tqdm\n",
    "from _lib.settings import DATA_ORIGIN_OLDENBURG_DIR\n",
    "\n",
    "\n",
    "SHORT_NAME = 'old'"
   ]
  },
  {
   "cell_type": "markdown",
   "metadata": {},
   "source": [
    "### Reading CSV files 2020"
   ]
  },
  {
   "cell_type": "code",
   "execution_count": 35,
   "metadata": {},
   "outputs": [
    {
     "name": "stderr",
     "output_type": "stream",
     "text": [
      "100%|██████████| 1181/1181 [01:01<00:00, 19.08it/s]\n"
     ]
    },
    {
     "data": {
      "text/plain": [
       "(908080, 4)"
      ]
     },
     "execution_count": 35,
     "metadata": {},
     "output_type": "execute_result"
    }
   ],
   "source": [
    "fpaths = get_filepaths(f'{DATA_ORIGIN_OLDENBURG_DIR}/2020', '.csv')\n",
    "\n",
    "id, lat, lon, ts = [], [], [], []\n",
    "\n",
    "for fpath in tqdm(fpaths):\n",
    "    tripid = SHORT_NAME + fpath[:-4].split('-')[-1]\n",
    "    df_trip = pd.read_csv(fpath, sep=';')\n",
    "    df_trip['timestamp'] = pd.to_datetime(df_trip['measured_date'])\n",
    "    df_trip['timestamp'] = df_trip['timestamp'].apply(lambda x: round(datetime.timestamp(x)))\n",
    "    \n",
    "    id = id + [tripid] * df_trip.shape[0]\n",
    "    lat = lat + df_trip['latitude'].tolist()\n",
    "    lon = lon + df_trip['longitude'].tolist()\n",
    "    ts = ts + df_trip['timestamp'].tolist()\n",
    "\n",
    "df_old = pd.DataFrame(np.array([id, lat, lon, ts]).T, columns=['tripid', 'latitude', 'longitude', 'timestamp'])\n",
    "df_old = df_old.astype({'latitude': 'float', 'longitude': 'float', 'timestamp': 'float'})\n",
    "\n",
    "df_old.shape"
   ]
  },
  {
   "cell_type": "markdown",
   "metadata": {},
   "source": [
    "### Processing"
   ]
  },
  {
   "cell_type": "code",
   "execution_count": 36,
   "metadata": {},
   "outputs": [
    {
     "name": "stdout",
     "output_type": "stream",
     "text": [
      "Shape before:  (908080, 4)\n",
      "Removed 146 substandard trips.\n"
     ]
    },
    {
     "name": "stderr",
     "output_type": "stream",
     "text": [
      "distance: 100%|██████████| 732216/732216 [00:02<00:00, 273283.75it/s]\n",
      "duration: 100%|██████████| 732216/732216 [00:01<00:00, 373182.65it/s]\n",
      "start: 100%|██████████| 730625/730625 [00:01<00:00, 431094.75it/s]\n",
      "end: 100%|██████████| 730625/730625 [00:01<00:00, 427345.20it/s]\n",
      "stop: 100%|██████████| 730625/730625 [00:01<00:00, 373584.88it/s]"
     ]
    },
    {
     "name": "stdout",
     "output_type": "stream",
     "text": [
      "Shape after:  (730625, 10)\n"
     ]
    },
    {
     "name": "stderr",
     "output_type": "stream",
     "text": [
      "\n"
     ]
    }
   ],
   "source": [
    "print('Shape before: ', df_old.shape)\n",
    "\n",
    "df_old = remove_substandard_trips(df_old)\n",
    "df_old = df_calc_basic(df_old)\n",
    "\n",
    "print('Shape after: ', df_old.shape)"
   ]
  },
  {
   "cell_type": "code",
   "execution_count": 37,
   "metadata": {},
   "outputs": [
    {
     "name": "stdout",
     "output_type": "stream",
     "text": [
      "Shape before:  (1034, 7)\n",
      "Shape after:  (1034, 8)\n"
     ]
    }
   ],
   "source": [
    "df_old_generic = calc_context(df_old)\n",
    "\n",
    "print('Shape before: ', df_old_generic.shape)\n",
    "\n",
    "df_old_generic.drop_duplicates(subset=list(set(df_old_generic.columns.tolist()) - set(['startts', 'endts'])), keep='first', inplace=True)\n",
    "\n",
    "df_old_generic = df_old_generic.reset_index(inplace=False)\n",
    "\n",
    "print('Shape after: ', df_old_generic.shape)"
   ]
  },
  {
   "cell_type": "markdown",
   "metadata": {},
   "source": [
    "### Removing overall columns & records"
   ]
  },
  {
   "cell_type": "code",
   "execution_count": 38,
   "metadata": {},
   "outputs": [
    {
     "name": "stdout",
     "output_type": "stream",
     "text": [
      "Shape before: (730625, 10)\n",
      "Shape after: (730625, 7)\n"
     ]
    }
   ],
   "source": [
    "''' DETAIL '''\n",
    "\n",
    "print('Shape before:', df_old.shape)\n",
    "\n",
    "df_old = get_df_detail_final(df_old, df_old_generic)\n",
    "\n",
    "print('Shape after:', df_old.shape)"
   ]
  },
  {
   "cell_type": "code",
   "execution_count": 39,
   "metadata": {},
   "outputs": [
    {
     "name": "stdout",
     "output_type": "stream",
     "text": [
      "Shape before: (1034, 8)\n",
      "Shape after: (1034, 8)\n"
     ]
    }
   ],
   "source": [
    "''' GENERIC '''\n",
    "\n",
    "print('Shape before:', df_old_generic.shape)\n",
    "\n",
    "df_old_generic = get_df_generic_final(df_old_generic, [])\n",
    "\n",
    "print('Shape after:', df_old_generic.shape)"
   ]
  },
  {
   "cell_type": "code",
   "execution_count": 40,
   "metadata": {},
   "outputs": [
    {
     "name": "stdout",
     "output_type": "stream",
     "text": [
      "<class 'pandas.core.frame.DataFrame'>\n",
      "Int64Index: 730625 entries, 0 to 730624\n",
      "Data columns (total 7 columns):\n",
      " #   Column     Non-Null Count   Dtype  \n",
      "---  ------     --------------   -----  \n",
      " 0   tripid     730625 non-null  object \n",
      " 1   latitude   730625 non-null  float64\n",
      " 2   longitude  730625 non-null  float64\n",
      " 3   timestamp  730625 non-null  float64\n",
      " 4   stop       730625 non-null  float64\n",
      " 5   distance   730625 non-null  float64\n",
      " 6   duration   730625 non-null  float64\n",
      "dtypes: float64(6), object(1)\n",
      "memory usage: 44.6+ MB\n"
     ]
    }
   ],
   "source": [
    "df_old.info()"
   ]
  },
  {
   "cell_type": "code",
   "execution_count": 41,
   "metadata": {},
   "outputs": [
    {
     "name": "stdout",
     "output_type": "stream",
     "text": [
      "<class 'pandas.core.frame.DataFrame'>\n",
      "RangeIndex: 1034 entries, 0 to 1033\n",
      "Data columns (total 8 columns):\n",
      " #   Column         Non-Null Count  Dtype  \n",
      "---  ------         --------------  -----  \n",
      " 0   tripid         1034 non-null   object \n",
      " 1   speedmin       1034 non-null   float64\n",
      " 2   speedmax       1034 non-null   float64\n",
      " 3   speedmean      1034 non-null   float64\n",
      " 4   speedavg_real  1034 non-null   float64\n",
      " 5   distance       1034 non-null   float64\n",
      " 6   startts        1034 non-null   float64\n",
      " 7   endts          1034 non-null   float64\n",
      "dtypes: float64(7), object(1)\n",
      "memory usage: 64.8+ KB\n"
     ]
    }
   ],
   "source": [
    "df_old_generic.info()"
   ]
  },
  {
   "cell_type": "markdown",
   "metadata": {},
   "source": [
    "### Saving operations"
   ]
  },
  {
   "cell_type": "code",
   "execution_count": 42,
   "metadata": {},
   "outputs": [],
   "source": [
    "df_old.to_csv(f'{DATA_AFTER_PREPARATION_DIR}/{SHORT_NAME}.csv', index=False, sep=';')\n",
    "df_old_generic.to_csv(f'{DATA_AFTER_PREPARATION_DIR}/{SHORT_NAME}_generic.csv', index=False, sep=';')"
   ]
  },
  {
   "cell_type": "markdown",
   "metadata": {},
   "source": [
    "# DE Berlin"
   ]
  },
  {
   "cell_type": "code",
   "execution_count": 43,
   "metadata": {},
   "outputs": [],
   "source": [
    "import os\n",
    "import numpy as np\n",
    "\n",
    "from tqdm import tqdm\n",
    "from _lib.settings import DATA_ORIGIN_BERLIN_DIR\n",
    "\n",
    "\n",
    "SHORT_NAME = 'ber'"
   ]
  },
  {
   "cell_type": "markdown",
   "metadata": {},
   "source": [
    "### Reading files 2020 - 2021"
   ]
  },
  {
   "cell_type": "code",
   "execution_count": 44,
   "metadata": {},
   "outputs": [
    {
     "name": "stderr",
     "output_type": "stream",
     "text": [
      "100%|██████████| 22931/22931 [03:37<00:00, 105.55it/s]\n"
     ]
    },
    {
     "data": {
      "text/plain": [
       "(12977703, 4)"
      ]
     },
     "execution_count": 44,
     "metadata": {},
     "output_type": "execute_result"
    }
   ],
   "source": [
    "fpaths = get_filepaths(f'{DATA_ORIGIN_BERLIN_DIR}/2020_2021', '')\n",
    "\n",
    "id, lat, lon, ts = [], [], [], []\n",
    "\n",
    "for fpath in tqdm(fpaths):\n",
    "    tripid = SHORT_NAME + fpath.split('/')[-1].split('-')[-1]\n",
    "    with open(fpath) as fr:\n",
    "        Lines = fr.readlines()\n",
    "        begin = False\n",
    "        for line in Lines:\n",
    "            if not begin:\n",
    "                begin = 'lat,lon,X,Y,Z,timeStamp' in line\n",
    "            else:\n",
    "                lline = line.split(',')\n",
    "                if lline[0] != '':\n",
    "                    id.append(tripid)\n",
    "                    lat.append(lline[0])\n",
    "                    lon.append(lline[1])\n",
    "                    ts.append(lline[5][:-3])\n",
    "\n",
    "df_ber = pd.DataFrame(np.array([id, lat, lon, ts]).T, columns=['tripid', 'latitude', 'longitude', 'timestamp'])\n",
    "df_ber = df_ber.astype({'latitude': 'float', 'longitude': 'float', 'timestamp': 'float'})\n",
    "\n",
    "df_ber.shape"
   ]
  },
  {
   "cell_type": "code",
   "execution_count": 45,
   "metadata": {},
   "outputs": [
    {
     "name": "stdout",
     "output_type": "stream",
     "text": [
      "Shape before:  (12977703, 4)\n",
      "Removed 0 substandard trips.\n"
     ]
    },
    {
     "name": "stderr",
     "output_type": "stream",
     "text": [
      "distance: 100%|██████████| 12977703/12977703 [00:45<00:00, 283482.17it/s]\n",
      "duration: 100%|██████████| 12977703/12977703 [00:32<00:00, 401044.78it/s]\n",
      "start: 100%|██████████| 10893237/10893237 [00:24<00:00, 450675.76it/s]\n",
      "end: 100%|██████████| 10893237/10893237 [00:24<00:00, 450759.78it/s]\n",
      "stop: 100%|██████████| 10893237/10893237 [00:27<00:00, 392302.51it/s]"
     ]
    },
    {
     "name": "stdout",
     "output_type": "stream",
     "text": [
      "Shape after:  (10893237, 10)\n"
     ]
    },
    {
     "name": "stderr",
     "output_type": "stream",
     "text": [
      "\n"
     ]
    }
   ],
   "source": [
    "print('Shape before: ', df_ber.shape)\n",
    "\n",
    "df_ber = remove_substandard_trips(df_ber)\n",
    "df_ber = df_calc_basic(df_ber)\n",
    "\n",
    "print('Shape after: ', df_ber.shape)"
   ]
  },
  {
   "cell_type": "code",
   "execution_count": 46,
   "metadata": {},
   "outputs": [
    {
     "name": "stdout",
     "output_type": "stream",
     "text": [
      "Shape before:  (22886, 7)\n",
      "Shape after:  (22544, 8)\n"
     ]
    }
   ],
   "source": [
    "df_ber_generic = calc_context(df_ber)\n",
    "\n",
    "print('Shape before: ', df_ber_generic.shape)\n",
    "\n",
    "df_ber_generic.drop_duplicates(subset=list(set(df_ber_generic.columns.tolist()) - set(['startts', 'endts'])), keep='first', inplace=True)\n",
    "\n",
    "df_ber_generic = df_ber_generic.reset_index(inplace=False)\n",
    "\n",
    "print('Shape after: ', df_ber_generic.shape)"
   ]
  },
  {
   "cell_type": "markdown",
   "metadata": {},
   "source": [
    "### Removing overall columns & records"
   ]
  },
  {
   "cell_type": "code",
   "execution_count": 47,
   "metadata": {},
   "outputs": [
    {
     "name": "stdout",
     "output_type": "stream",
     "text": [
      "Shape before: (10893237, 10)\n",
      "Shape after: (10704635, 7)\n"
     ]
    }
   ],
   "source": [
    "''' DETAIL '''\n",
    "\n",
    "print('Shape before:', df_ber.shape)\n",
    "\n",
    "df_ber = get_df_detail_final(df_ber, df_ber_generic)\n",
    "\n",
    "print('Shape after:', df_ber.shape)"
   ]
  },
  {
   "cell_type": "code",
   "execution_count": 48,
   "metadata": {},
   "outputs": [
    {
     "name": "stdout",
     "output_type": "stream",
     "text": [
      "Shape before: (22544, 8)\n",
      "Shape after: (22544, 8)\n"
     ]
    }
   ],
   "source": [
    "''' GENERIC '''\n",
    "\n",
    "print('Shape before:', df_ber_generic.shape)\n",
    "\n",
    "df_ber_generic = get_df_generic_final(df_ber_generic, [])\n",
    "\n",
    "print('Shape after:', df_ber_generic.shape)"
   ]
  },
  {
   "cell_type": "code",
   "execution_count": 49,
   "metadata": {},
   "outputs": [
    {
     "name": "stdout",
     "output_type": "stream",
     "text": [
      "<class 'pandas.core.frame.DataFrame'>\n",
      "Int64Index: 10704635 entries, 0 to 10893236\n",
      "Data columns (total 7 columns):\n",
      " #   Column     Dtype  \n",
      "---  ------     -----  \n",
      " 0   tripid     object \n",
      " 1   latitude   float64\n",
      " 2   longitude  float64\n",
      " 3   timestamp  float64\n",
      " 4   stop       float64\n",
      " 5   distance   float64\n",
      " 6   duration   float64\n",
      "dtypes: float64(6), object(1)\n",
      "memory usage: 653.4+ MB\n"
     ]
    }
   ],
   "source": [
    "df_ber.info()"
   ]
  },
  {
   "cell_type": "code",
   "execution_count": 50,
   "metadata": {},
   "outputs": [
    {
     "name": "stdout",
     "output_type": "stream",
     "text": [
      "<class 'pandas.core.frame.DataFrame'>\n",
      "RangeIndex: 22544 entries, 0 to 22543\n",
      "Data columns (total 8 columns):\n",
      " #   Column         Non-Null Count  Dtype  \n",
      "---  ------         --------------  -----  \n",
      " 0   tripid         22544 non-null  object \n",
      " 1   speedmin       22544 non-null  float64\n",
      " 2   speedmax       22544 non-null  float64\n",
      " 3   speedmean      22544 non-null  float64\n",
      " 4   speedavg_real  22544 non-null  float64\n",
      " 5   distance       22544 non-null  float64\n",
      " 6   startts        22544 non-null  float64\n",
      " 7   endts          22544 non-null  float64\n",
      "dtypes: float64(7), object(1)\n",
      "memory usage: 1.4+ MB\n"
     ]
    }
   ],
   "source": [
    "df_ber_generic.info()"
   ]
  },
  {
   "cell_type": "markdown",
   "metadata": {},
   "source": [
    "### Saving operations"
   ]
  },
  {
   "cell_type": "code",
   "execution_count": 51,
   "metadata": {},
   "outputs": [],
   "source": [
    "df_ber.to_csv(f'{DATA_AFTER_PREPARATION_DIR}/{SHORT_NAME}.csv', index=False, sep=';')\n",
    "df_ber_generic.to_csv(f'{DATA_AFTER_PREPARATION_DIR}/{SHORT_NAME}_generic.csv', index=False, sep=';')"
   ]
  },
  {
   "cell_type": "markdown",
   "metadata": {},
   "source": [
    "# PL Gdansk"
   ]
  },
  {
   "cell_type": "code",
   "execution_count": 52,
   "metadata": {},
   "outputs": [],
   "source": [
    "from tqdm import tqdm\n",
    "from _lib.settings import DATA_ORIGIN_GDANSK_DIR\n",
    "\n",
    "\n",
    "SHORT_NAME = 'gda'"
   ]
  },
  {
   "cell_type": "markdown",
   "metadata": {},
   "source": [
    "### 2015"
   ]
  },
  {
   "cell_type": "code",
   "execution_count": 53,
   "metadata": {},
   "outputs": [
    {
     "name": "stderr",
     "output_type": "stream",
     "text": [
      "/home/yyeliseyenka/anaconda3/lib/python3.9/site-packages/IPython/core/interactiveshell.py:3444: DtypeWarning: Columns (1,7) have mixed types.Specify dtype option on import or set low_memory=False.\n",
      "  exec(code_obj, self.user_global_ns, self.user_ns)\n"
     ]
    },
    {
     "name": "stdout",
     "output_type": "stream",
     "text": [
      "Shape before:  (26762382, 9)\n",
      "Removed 21 substandard trips.\n"
     ]
    },
    {
     "name": "stderr",
     "output_type": "stream",
     "text": [
      "timestamp: 100%|██████████| 26759422/26759422 [00:49<00:00, 543998.33it/s]\n"
     ]
    },
    {
     "name": "stdout",
     "output_type": "stream",
     "text": [
      "Removed 2 substandard trips.\n"
     ]
    },
    {
     "name": "stderr",
     "output_type": "stream",
     "text": [
      "distance: 100%|██████████| 26754447/26754447 [01:35<00:00, 281090.42it/s]\n",
      "duration: 100%|██████████| 26754447/26754447 [01:07<00:00, 395754.65it/s]\n",
      "start: 100%|██████████| 22414159/22414159 [00:49<00:00, 454088.30it/s]\n",
      "end: 100%|██████████| 22414159/22414159 [00:49<00:00, 456351.56it/s]\n",
      "stop: 100%|██████████| 22414159/22414159 [00:57<00:00, 391996.17it/s]\n"
     ]
    },
    {
     "name": "stdout",
     "output_type": "stream",
     "text": [
      "Shape after:  (22414159, 13)\n"
     ]
    }
   ],
   "source": [
    "df_gda15 = pd.read_csv(f'{DATA_ORIGIN_GDANSK_DIR}/detail_2015.csv', encoding='windows-1250')\n",
    "\n",
    "print('Shape before: ', df_gda15.shape)\n",
    "\n",
    "''' Column names normalization '''\n",
    "df_gda15.columns = [cname.replace(' ', '').lower() for cname in df_gda15.columns]\n",
    "\n",
    "''' Column data normalization '''\n",
    "df_gda15['tripid'] = SHORT_NAME + df_gda15['tripid'].astype(str).replace(' ', '')\n",
    "\n",
    "df_gda15 = df_gda15.astype({'latitude': 'float', 'longitude': 'float'})\n",
    "df_gda15 = remove_substandard_trips(df_gda15)\n",
    "\n",
    "tqdm.pandas(desc='timestamp')\n",
    "df_gda15['timestamp'] = df_gda15['timestamp'].progress_apply(lambda x: float('nan') if str(x).lower() in ['false', 'nan'] else round(datetime.fromtimestamp(float(x)).timestamp()))\n",
    "\n",
    "df_gda15 = remove_substandard_trips(df_gda15)\n",
    "df_gda15 = df_calc_basic(df_gda15)\n",
    "\n",
    "print('Shape after: ', df_gda15.shape)"
   ]
  },
  {
   "cell_type": "code",
   "execution_count": 54,
   "metadata": {},
   "outputs": [
    {
     "name": "stdout",
     "output_type": "stream",
     "text": [
      "Shape before:  (55279, 9)\n",
      "Shape after:  (54267, 16)\n"
     ]
    }
   ],
   "source": [
    "df_gda15_generic = pd.read_csv(f'{DATA_ORIGIN_GDANSK_DIR}/generic_2015.csv')\n",
    "\n",
    "''' Column names normalization '''\n",
    "df_gda15_generic.columns = [cname.replace(' ', '').lower() for cname in df_gda15_generic.columns]\n",
    "\n",
    "''' Column data normalization '''\n",
    "df_gda15_generic['tripid'] = SHORT_NAME + df_gda15_generic['tripid'].apply(lambda id: id.replace(' ', ''))\n",
    "df_gda15_generic['distance'] = df_gda15_generic['distance'].astype(float)\n",
    "df_gda15_generic['valid'] = df_gda15_generic[df_gda15_generic['ecc'].notna()]['ecc'].apply(lambda x: False if x == 0 else True)\n",
    "df_gda15_generic['avgspeed'] = df_gda15_generic['avgspeed'].astype(float)\n",
    "df_gda15_generic['tracktype'] = df_gda15_generic[df_gda15_generic['tracktype'].notna()]['tracktype'].apply(val2utf8)\n",
    "df_gda15_generic['male'] = df_gda15_generic[df_gda15_generic['sex'].notna()]['sex'].apply(lambda x: True if str(x).lower() == 'm' else (False if str(x).lower() == 'f' else float('nan')))\n",
    "df_gda15_generic['yearofbirth'] = df_gda15_generic['year'].apply(val2year)\n",
    "df_gda15_generic['profession'] = df_gda15_generic[df_gda15_generic['profession'].notna()]['profession'].apply(val2utf8)\n",
    "df_gda15_generic['frequentuser'] = df_gda15_generic[df_gda15_generic['frequentuser'].notna()]['frequentuser'].apply(lambda x: False if x.lower() == 'no' else True)\n",
    "df_gda15_generic['zip'] = df_gda15_generic[df_gda15_generic['zip'].notna()]['zip'].apply(val2zip)\n",
    "df_gda15_generic['source'] = df_gda15_generic[df_gda15_generic['source'].notna()]['source'].apply(val2utf8)\n",
    "\n",
    "df_gda15_generic.drop(['timestamp', 'startdt', 'ecc', 'sex', 'year', 'distance', 'avgspeed'], axis=1, inplace=True)\n",
    "\n",
    "''' Joinig generic data with gps data '''\n",
    "print('Shape before: ', df_gda15_generic.shape)\n",
    "\n",
    "df_gda15_generic = df_join_generic_with_gps(df_gda15_generic, df_gda15)\n",
    "\n",
    "print('Shape after: ', df_gda15_generic.shape)"
   ]
  },
  {
   "cell_type": "markdown",
   "metadata": {},
   "source": [
    "### 2016"
   ]
  },
  {
   "cell_type": "code",
   "execution_count": 55,
   "metadata": {},
   "outputs": [
    {
     "name": "stderr",
     "output_type": "stream",
     "text": [
      "/home/yyeliseyenka/anaconda3/lib/python3.9/site-packages/IPython/core/interactiveshell.py:3444: DtypeWarning: Columns (1,6) have mixed types.Specify dtype option on import or set low_memory=False.\n",
      "  exec(code_obj, self.user_global_ns, self.user_ns)\n"
     ]
    },
    {
     "name": "stdout",
     "output_type": "stream",
     "text": [
      "Shape before:  (48208935, 8)\n",
      "Removed 1 substandard trips.\n"
     ]
    },
    {
     "name": "stderr",
     "output_type": "stream",
     "text": [
      "timestamp: 100%|██████████| 48207531/48207531 [01:28<00:00, 547134.84it/s]\n"
     ]
    },
    {
     "name": "stdout",
     "output_type": "stream",
     "text": [
      "Removed 1 substandard trips.\n"
     ]
    },
    {
     "name": "stderr",
     "output_type": "stream",
     "text": [
      "distance: 100%|██████████| 48204011/48204011 [03:17<00:00, 243628.14it/s]\n",
      "duration: 100%|██████████| 48204011/48204011 [02:00<00:00, 400234.88it/s]\n",
      "start: 100%|██████████| 40033593/40033593 [01:29<00:00, 447778.74it/s]\n",
      "end: 100%|██████████| 40033593/40033593 [01:29<00:00, 449444.42it/s]\n",
      "stop: 100%|██████████| 40033593/40033593 [01:42<00:00, 392094.01it/s]\n"
     ]
    },
    {
     "name": "stdout",
     "output_type": "stream",
     "text": [
      "Shape after:  (40033593, 12)\n"
     ]
    }
   ],
   "source": [
    "df_gda16 = pd.read_csv(f'{DATA_ORIGIN_GDANSK_DIR}/detail_2016.csv', encoding='windows-1250', skiprows=[11184484])\n",
    "\n",
    "print('Shape before: ', df_gda16.shape)\n",
    "\n",
    "''' Column names normalization '''\n",
    "df_gda16.columns = [cname.replace(' ', '').lower() for cname in df_gda16.columns]\n",
    "\n",
    "''' Column data normalization '''\n",
    "df_gda16['tripid'] = SHORT_NAME + df_gda16['tripid'].astype(str).replace(' ', '')\n",
    "\n",
    "df_gda16 = df_gda16.astype({'latitude': 'float', 'longitude': 'float'})\n",
    "df_gda16 = remove_substandard_trips(df_gda16)\n",
    "\n",
    "tqdm.pandas(desc='timestamp')\n",
    "df_gda16['timestamp'] = df_gda16['timestamp'].progress_apply(lambda x: float('nan') if str(x).lower() in ['false', 'nan'] else round(datetime.fromtimestamp(float(x)).timestamp()))\n",
    "\n",
    "df_gda16 = remove_substandard_trips(df_gda16)\n",
    "df_gda16 = df_calc_basic(df_gda16)\n",
    "\n",
    "print('Shape after: ', df_gda16.shape)"
   ]
  },
  {
   "cell_type": "code",
   "execution_count": 56,
   "metadata": {},
   "outputs": [
    {
     "name": "stdout",
     "output_type": "stream",
     "text": [
      "Shape before:  (88992, 12)\n",
      "Shape after:  (85898, 19)\n"
     ]
    }
   ],
   "source": [
    "df_gda16_generic = pd.read_csv(f'{DATA_ORIGIN_GDANSK_DIR}/generic_2016.csv')\n",
    "\n",
    "''' Column names normalization '''\n",
    "df_gda16_generic.columns = [cname.replace(' ', '').lower() for cname in df_gda16_generic.columns]\n",
    "\n",
    "''' Column data normalization '''\n",
    "df_gda16_generic['tripid'] = SHORT_NAME + df_gda16_generic['tripid'].apply(lambda x: x.replace(' ', ''))\n",
    "df_gda16_generic['distance'] = df_gda16_generic['distance'].astype(float)\n",
    "df_gda16_generic['valid'] = df_gda16_generic[df_gda16_generic['ecc'].notna()]['ecc'].apply(lambda x: False if x == 0 else True)\n",
    "df_gda16_generic['avgspeed'] = df_gda16_generic['avgspeed'].astype(float)\n",
    "df_gda16_generic['tracktype'] = df_gda16_generic[df_gda16_generic['tracktype'].notna()]['tracktype'].apply(val2utf8)\n",
    "df_gda16_generic['male'] = df_gda16_generic[df_gda16_generic['sex'].notna()]['sex'].apply(lambda x: True if str(x).lower() == 'm' else (False if str(x).lower() == 'f' else float('nan')))\n",
    "df_gda16_generic['yearofbirth'] = df_gda16_generic['year'].apply(val2year)\n",
    "df_gda16_generic['profession'] = df_gda16_generic[df_gda16_generic['profession'].notna()]['profession'].apply(val2utf8)\n",
    "df_gda16_generic['frequentuser'] = df_gda16_generic[df_gda16_generic['frequentuser'].notna()]['frequentuser'].apply(lambda x: False if x.lower() in ['no', 'nie'] else False)\n",
    "df_gda16_generic['zip'] = df_gda16_generic[df_gda16_generic['zip'].notna()]['zip'].apply(val2zip)\n",
    "df_gda16_generic['source'] = df_gda16_generic[df_gda16_generic['source'].notna()]['source'].apply(val2utf8)\n",
    "df_gda16_generic['typeofbike'] = df_gda16_generic[df_gda16_generic['typeofbike'].notna()]['typeofbike'].apply(val2utf8)\n",
    "df_gda16_generic['typeoftrip'] = df_gda16_generic[df_gda16_generic['tipeoftrip'].notna()]['tipeoftrip'].apply(val2utf8)\n",
    "\n",
    "df_gda16_generic.drop(['timestamp', 'startdt', 'ecc', 'sex', 'year', 'distance', 'avgspeed'], axis=1, inplace=True)\n",
    "\n",
    "''' Joinig generic data with gps data '''\n",
    "print('Shape before: ', df_gda16_generic.shape)\n",
    "\n",
    "df_gda16_generic = df_join_generic_with_gps(df_gda16_generic, df_gda16)\n",
    "\n",
    "print('Shape after: ', df_gda16_generic.shape)"
   ]
  },
  {
   "cell_type": "markdown",
   "metadata": {},
   "source": [
    "### Removing overall columns & records"
   ]
  },
  {
   "cell_type": "code",
   "execution_count": 57,
   "metadata": {},
   "outputs": [
    {
     "name": "stdout",
     "output_type": "stream",
     "text": [
      "Shape before. 2015: (22414159, 13) 2016: (40033593, 12)\n",
      "Shape after. 2015: (22251102, 7) 2016: (39231475, 7)\n"
     ]
    }
   ],
   "source": [
    "''' DETAIL '''\n",
    "\n",
    "print('Shape before. 2015:', df_gda15.shape, '2016:', df_gda16.shape)\n",
    "\n",
    "df_gda15 = get_df_detail_final(df_gda15, df_gda15_generic)\n",
    "df_gda16 = get_df_detail_final(df_gda16, df_gda16_generic)\n",
    "\n",
    "print('Shape after. 2015:', df_gda15.shape, '2016:', df_gda16.shape)"
   ]
  },
  {
   "cell_type": "code",
   "execution_count": 58,
   "metadata": {},
   "outputs": [
    {
     "name": "stdout",
     "output_type": "stream",
     "text": [
      "Shape before. 2015: (54267, 16) 2016: (85898, 19)\n",
      "Shape before. 2015: (54267, 16) 2016: (85898, 18)\n"
     ]
    }
   ],
   "source": [
    "''' GENERIC '''\n",
    "\n",
    "print('Shape before. 2015:', df_gda15_generic.shape, '2016:', df_gda16_generic.shape)\n",
    "\n",
    "df_gda15_generic = get_df_generic_final(df_gda15_generic, ['tracktype', 'source', 'profession', 'male', 'frequentuser', 'zip', 'yearofbirth', 'valid'])\n",
    "df_gda16_generic = get_df_generic_final(df_gda16_generic, ['tracktype', 'typeofbike', 'typeoftrip', 'source', 'profession', 'male', 'frequentuser', 'zip', 'yearofbirth', 'valid'])\n",
    "\n",
    "print('Shape before. 2015:', df_gda15_generic.shape, '2016:', df_gda16_generic.shape)"
   ]
  },
  {
   "cell_type": "markdown",
   "metadata": {},
   "source": [
    "### Datasets concatenaton"
   ]
  },
  {
   "cell_type": "code",
   "execution_count": 59,
   "metadata": {},
   "outputs": [
    {
     "name": "stdout",
     "output_type": "stream",
     "text": [
      "<class 'pandas.core.frame.DataFrame'>\n",
      "RangeIndex: 61482577 entries, 0 to 61482576\n",
      "Data columns (total 7 columns):\n",
      " #   Column     Dtype  \n",
      "---  ------     -----  \n",
      " 0   tripid     object \n",
      " 1   latitude   float64\n",
      " 2   longitude  float64\n",
      " 3   timestamp  float64\n",
      " 4   stop       float64\n",
      " 5   distance   float64\n",
      " 6   duration   float64\n",
      "dtypes: float64(6), object(1)\n",
      "memory usage: 3.2+ GB\n"
     ]
    }
   ],
   "source": [
    "df_gda = pd.concat([df_gda15, df_gda16], ignore_index=True)\n",
    "df_gda.info()"
   ]
  },
  {
   "cell_type": "code",
   "execution_count": 60,
   "metadata": {},
   "outputs": [
    {
     "name": "stdout",
     "output_type": "stream",
     "text": [
      "<class 'pandas.core.frame.DataFrame'>\n",
      "RangeIndex: 140165 entries, 0 to 140164\n",
      "Data columns (total 18 columns):\n",
      " #   Column         Non-Null Count   Dtype  \n",
      "---  ------         --------------   -----  \n",
      " 0   tripid         140165 non-null  object \n",
      " 1   speedmin       140165 non-null  float64\n",
      " 2   speedmax       140165 non-null  float64\n",
      " 3   speedmean      140165 non-null  float64\n",
      " 4   speedavg_real  140165 non-null  float64\n",
      " 5   distance       140165 non-null  float64\n",
      " 6   startts        140165 non-null  float64\n",
      " 7   endts          140165 non-null  float64\n",
      " 8   tracktype      140165 non-null  object \n",
      " 9   source         140163 non-null  object \n",
      " 10  profession     104672 non-null  object \n",
      " 11  male           120235 non-null  object \n",
      " 12  frequentuser   140165 non-null  bool   \n",
      " 13  zip            81481 non-null   object \n",
      " 14  yearofbirth    118106 non-null  object \n",
      " 15  valid          140165 non-null  bool   \n",
      " 16  typeofbike     42057 non-null   object \n",
      " 17  typeoftrip     42022 non-null   object \n",
      "dtypes: bool(2), float64(7), object(9)\n",
      "memory usage: 17.4+ MB\n"
     ]
    }
   ],
   "source": [
    "df_gda_generic = pd.concat([df_gda15_generic, df_gda16_generic], ignore_index=True)\n",
    "df_gda_generic.info()"
   ]
  },
  {
   "cell_type": "markdown",
   "metadata": {},
   "source": [
    "### Saving operations"
   ]
  },
  {
   "cell_type": "code",
   "execution_count": 61,
   "metadata": {},
   "outputs": [],
   "source": [
    "df_gda.to_csv(f'{DATA_AFTER_PREPARATION_DIR}/{SHORT_NAME}.csv', index=False, sep=';')\n",
    "df_gda_generic.to_csv(f'{DATA_AFTER_PREPARATION_DIR}/{SHORT_NAME}_generic.csv', index=False, sep=';')"
   ]
  },
  {
   "cell_type": "markdown",
   "metadata": {},
   "source": [
    "# SW Sodertalie"
   ]
  },
  {
   "cell_type": "code",
   "execution_count": 62,
   "metadata": {},
   "outputs": [],
   "source": [
    "from tqdm import tqdm\n",
    "from _lib.settings import DATA_ORIGIN_SODERTALIE_DIR\n",
    "\n",
    "\n",
    "SHORT_NAME = 'sod'"
   ]
  },
  {
   "cell_type": "code",
   "execution_count": 63,
   "metadata": {},
   "outputs": [
    {
     "name": "stdout",
     "output_type": "stream",
     "text": [
      "Shape before:  (594498, 8)\n",
      "Removed 0 substandard trips.\n"
     ]
    },
    {
     "name": "stderr",
     "output_type": "stream",
     "text": [
      "distance: 100%|██████████| 594498/594498 [00:02<00:00, 263192.40it/s]\n",
      "duration: 100%|██████████| 594498/594498 [00:01<00:00, 356175.06it/s]\n",
      "start: 100%|██████████| 455045/455045 [00:01<00:00, 405622.50it/s]\n",
      "end: 100%|██████████| 455045/455045 [00:01<00:00, 398923.38it/s]\n",
      "stop: 100%|██████████| 455045/455045 [00:01<00:00, 344268.32it/s]"
     ]
    },
    {
     "name": "stdout",
     "output_type": "stream",
     "text": [
      "Shape after:  (455045, 10)\n"
     ]
    },
    {
     "name": "stderr",
     "output_type": "stream",
     "text": [
      "\n"
     ]
    }
   ],
   "source": [
    "df_sod = pd.read_csv(f'{DATA_ORIGIN_SODERTALIE_DIR}/sodertalje_detail.csv')\n",
    "\n",
    "print('Shape before: ', df_sod.shape)\n",
    "\n",
    "''' Column names normalization '''\n",
    "df_sod.columns = [cname.replace(' ', '').lower() for cname in df_sod.columns]\n",
    "\n",
    "''' Column data normalization '''\n",
    "df_sod['tripid'] = SHORT_NAME + df_sod['tripid'].astype(str).replace(' ', '')\n",
    "\n",
    "tqdm.pandas(desc='timestamp')\n",
    "df_sod['timestamp'] = df_sod['timestamp'].apply(lambda x: round(datetime.fromtimestamp(float(x)).timestamp()))\n",
    "\n",
    "df_sod.drop(['altitude', 'distance', 'speed', 'type'], axis=1, inplace=True)\n",
    "\n",
    "df_sod = df_sod.astype({'latitude': 'float', 'longitude': 'float'})\n",
    "\n",
    "df_sod = remove_substandard_trips(df_sod)\n",
    "df_sod = df_calc_basic(df_sod)\n",
    "\n",
    "print('Shape after: ', df_sod.shape)"
   ]
  },
  {
   "cell_type": "code",
   "execution_count": 64,
   "metadata": {},
   "outputs": [
    {
     "name": "stdout",
     "output_type": "stream",
     "text": [
      "Shape before:  (1487, 7)\n",
      "Shape after:  (1466, 8)\n"
     ]
    }
   ],
   "source": [
    "df_sod_generic = calc_context(df_sod)\n",
    "\n",
    "print('Shape before: ', df_sod_generic.shape)\n",
    "\n",
    "df_sod_generic.drop_duplicates(subset=list(set(df_sod_generic.columns.tolist()) - set(['startts', 'endts'])), keep='first', inplace=True)\n",
    "\n",
    "df_sod_generic = df_sod_generic.reset_index(inplace=False)\n",
    "\n",
    "print('Shape after: ', df_sod_generic.shape)"
   ]
  },
  {
   "cell_type": "markdown",
   "metadata": {},
   "source": [
    "### Removing overall columns & records"
   ]
  },
  {
   "cell_type": "code",
   "execution_count": 65,
   "metadata": {},
   "outputs": [
    {
     "name": "stdout",
     "output_type": "stream",
     "text": [
      "Shape before: (455045, 10)\n",
      "Shape after: (452767, 7)\n"
     ]
    }
   ],
   "source": [
    "''' DETAIL '''\n",
    "\n",
    "print('Shape before:', df_sod.shape)\n",
    "\n",
    "df_sod = get_df_detail_final(df_sod, df_sod_generic)\n",
    "\n",
    "print('Shape after:', df_sod.shape)"
   ]
  },
  {
   "cell_type": "code",
   "execution_count": 66,
   "metadata": {},
   "outputs": [
    {
     "name": "stdout",
     "output_type": "stream",
     "text": [
      "Shape before: (1466, 8)\n",
      "Shape after: (1466, 8)\n"
     ]
    }
   ],
   "source": [
    "''' GENERIC '''\n",
    "\n",
    "print('Shape before:', df_sod_generic.shape)\n",
    "\n",
    "df_sod_generic = get_df_generic_final(df_sod_generic, [])\n",
    "\n",
    "print('Shape after:', df_sod_generic.shape)"
   ]
  },
  {
   "cell_type": "code",
   "execution_count": 67,
   "metadata": {},
   "outputs": [
    {
     "name": "stdout",
     "output_type": "stream",
     "text": [
      "<class 'pandas.core.frame.DataFrame'>\n",
      "Int64Index: 452767 entries, 0 to 455044\n",
      "Data columns (total 7 columns):\n",
      " #   Column     Non-Null Count   Dtype  \n",
      "---  ------     --------------   -----  \n",
      " 0   tripid     452767 non-null  object \n",
      " 1   latitude   452767 non-null  float64\n",
      " 2   longitude  452767 non-null  float64\n",
      " 3   timestamp  452767 non-null  int64  \n",
      " 4   stop       452767 non-null  float64\n",
      " 5   distance   452767 non-null  float64\n",
      " 6   duration   452767 non-null  float64\n",
      "dtypes: float64(5), int64(1), object(1)\n",
      "memory usage: 27.6+ MB\n"
     ]
    }
   ],
   "source": [
    "df_sod.info()"
   ]
  },
  {
   "cell_type": "code",
   "execution_count": 68,
   "metadata": {},
   "outputs": [
    {
     "name": "stdout",
     "output_type": "stream",
     "text": [
      "<class 'pandas.core.frame.DataFrame'>\n",
      "RangeIndex: 1466 entries, 0 to 1465\n",
      "Data columns (total 8 columns):\n",
      " #   Column         Non-Null Count  Dtype  \n",
      "---  ------         --------------  -----  \n",
      " 0   tripid         1466 non-null   object \n",
      " 1   speedmin       1466 non-null   float64\n",
      " 2   speedmax       1466 non-null   float64\n",
      " 3   speedmean      1466 non-null   float64\n",
      " 4   speedavg_real  1466 non-null   float64\n",
      " 5   distance       1466 non-null   float64\n",
      " 6   startts        1466 non-null   int64  \n",
      " 7   endts          1466 non-null   int64  \n",
      "dtypes: float64(5), int64(2), object(1)\n",
      "memory usage: 91.8+ KB\n"
     ]
    }
   ],
   "source": [
    "df_sod_generic.info()"
   ]
  },
  {
   "cell_type": "markdown",
   "metadata": {},
   "source": [
    "### Saving operations"
   ]
  },
  {
   "cell_type": "code",
   "execution_count": 69,
   "metadata": {},
   "outputs": [],
   "source": [
    "df_sod.to_csv(f'{DATA_AFTER_PREPARATION_DIR}/{SHORT_NAME}.csv', index=False, sep=';')\n",
    "df_sod_generic.to_csv(f'{DATA_AFTER_PREPARATION_DIR}/{SHORT_NAME}_generic.csv', index=False, sep=';')"
   ]
  },
  {
   "cell_type": "code",
   "execution_count": null,
   "metadata": {},
   "outputs": [],
   "source": []
  }
 ],
 "metadata": {
  "interpreter": {
   "hash": "43f41945229dceb886551289960f1b9a44b0b32f7093d7c7f71fbe0a48174f8b"
  },
  "kernelspec": {
   "display_name": "Python 3.9.7 ('base')",
   "language": "python",
   "name": "python3"
  },
  "language_info": {
   "codemirror_mode": {
    "name": "ipython",
    "version": 3
   },
   "file_extension": ".py",
   "mimetype": "text/x-python",
   "name": "python",
   "nbconvert_exporter": "python",
   "pygments_lexer": "ipython3",
   "version": "3.9.7"
  },
  "orig_nbformat": 4
 },
 "nbformat": 4,
 "nbformat_minor": 2
}
